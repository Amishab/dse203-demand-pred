{
 "cells": [
  {
   "cell_type": "code",
   "execution_count": 1,
   "metadata": {
    "scrolled": true
   },
   "outputs": [
    {
     "name": "stdout",
     "output_type": "stream",
     "text": [
      "Requirement already satisfied: pysolr in ./anaconda2/lib/python2.7/site-packages\r\n",
      "Requirement already satisfied: requests>=2.9.1 in ./anaconda2/lib/python2.7/site-packages (from pysolr)\r\n"
     ]
    }
   ],
   "source": [
    "!pip install pysolr"
   ]
  },
  {
   "cell_type": "code",
   "execution_count": 2,
   "metadata": {
    "collapsed": true
   },
   "outputs": [],
   "source": [
    "import pysolr"
   ]
  },
  {
   "cell_type": "code",
   "execution_count": 6,
   "metadata": {
    "collapsed": true
   },
   "outputs": [],
   "source": [
    "#Wrapper from Query Team to connect to Solr\n",
    "def solrWrap(core,params):\n",
    "    import pandas as pd\n",
    "    query_string='http://45.79.91.219:8983/solr/'+core+'/select?' # connecting to our linode server\n",
    "    for key in params:\n",
    "        query_string=query_string+key+'='+params[key]+'&'\n",
    "        print (query_string)\n",
    "    solrcon = pysolr.Solr(query_string, timeout=10)\n",
    "    results = solrcon.search('*:*')\n",
    "    docs=pd.DataFrame(results.docs)\n",
    "    return docs"
   ]
  },
  {
   "cell_type": "code",
   "execution_count": 7,
   "metadata": {},
   "outputs": [
    {
     "name": "stdout",
     "output_type": "stream",
     "text": [
      "http://45.79.91.219:8983/solr/bookstore/select?q=*:*&\n",
      "http://45.79.91.219:8983/solr/bookstore/select?q=*:*&fq=reviewerID:'AH2L9G3DQHHAJ'&\n",
      "http://45.79.91.219:8983/solr/bookstore/select?q=*:*&fq=reviewerID:'AH2L9G3DQHHAJ'&wt=json&\n"
     ]
    },
    {
     "data": {
      "text/html": [
       "<div>\n",
       "<table border=\"1\" class=\"dataframe\">\n",
       "  <thead>\n",
       "    <tr style=\"text-align: right;\">\n",
       "      <th></th>\n",
       "      <th>_version_</th>\n",
       "      <th>asin</th>\n",
       "      <th>asin_str</th>\n",
       "      <th>id</th>\n",
       "      <th>reviewText</th>\n",
       "      <th>reviewText_str</th>\n",
       "      <th>reviewerID</th>\n",
       "      <th>reviewerID_str</th>\n",
       "    </tr>\n",
       "  </thead>\n",
       "  <tbody>\n",
       "    <tr>\n",
       "      <th>0</th>\n",
       "      <td>1582297498339246080</td>\n",
       "      <td>[0000000116]</td>\n",
       "      <td>[0000000116]</td>\n",
       "      <td>82634ca3-81a4-468d-bf25-1e055c8a974d</td>\n",
       "      <td>[Interesting Grisham tale of a lawyer that tak...</td>\n",
       "      <td>[Interesting Grisham tale of a lawyer that tak...</td>\n",
       "      <td>[AH2L9G3DQHHAJ]</td>\n",
       "      <td>[AH2L9G3DQHHAJ]</td>\n",
       "    </tr>\n",
       "  </tbody>\n",
       "</table>\n",
       "</div>"
      ],
      "text/plain": [
       "             _version_          asin      asin_str  \\\n",
       "0  1582297498339246080  [0000000116]  [0000000116]   \n",
       "\n",
       "                                     id  \\\n",
       "0  82634ca3-81a4-468d-bf25-1e055c8a974d   \n",
       "\n",
       "                                          reviewText  \\\n",
       "0  [Interesting Grisham tale of a lawyer that tak...   \n",
       "\n",
       "                                      reviewText_str       reviewerID  \\\n",
       "0  [Interesting Grisham tale of a lawyer that tak...  [AH2L9G3DQHHAJ]   \n",
       "\n",
       "    reviewerID_str  \n",
       "0  [AH2L9G3DQHHAJ]  "
      ]
     },
     "execution_count": 7,
     "metadata": {},
     "output_type": "execute_result"
    }
   ],
   "source": [
    "#example one\n",
    "d = {'q': '*:*', 'wt': 'json', 'fq': \"reviewerID:\\'AH2L9G3DQHHAJ\\'\"} \n",
    "d_res1=solrWrap('bookstore',d)\n",
    "d_res1"
   ]
  },
  {
   "cell_type": "code",
   "execution_count": 8,
   "metadata": {},
   "outputs": [
    {
     "name": "stdout",
     "output_type": "stream",
     "text": [
      "http://45.79.91.219:8983/solr/bookstore/select?q=*:*&\n",
      "http://45.79.91.219:8983/solr/bookstore/select?q=*:*&fq=reviewText: Grisham&\n",
      "http://45.79.91.219:8983/solr/bookstore/select?q=*:*&fq=reviewText: Grisham&rows=1000&\n",
      "http://45.79.91.219:8983/solr/bookstore/select?q=*:*&fq=reviewText: Grisham&rows=1000&fl=reviewText, asin&\n"
     ]
    },
    {
     "data": {
      "text/html": [
       "<div>\n",
       "<table border=\"1\" class=\"dataframe\">\n",
       "  <thead>\n",
       "    <tr style=\"text-align: right;\">\n",
       "      <th></th>\n",
       "      <th>asin</th>\n",
       "      <th>reviewText</th>\n",
       "    </tr>\n",
       "  </thead>\n",
       "  <tbody>\n",
       "    <tr>\n",
       "      <th>0</th>\n",
       "      <td>[0000000116]</td>\n",
       "      <td>[Interesting Grisham tale of a lawyer that tak...</td>\n",
       "    </tr>\n",
       "    <tr>\n",
       "      <th>1</th>\n",
       "      <td>[0002007770]</td>\n",
       "      <td>[This book had very, very little depth.  I too...</td>\n",
       "    </tr>\n",
       "    <tr>\n",
       "      <th>2</th>\n",
       "      <td>[0002051850]</td>\n",
       "      <td>[For Whom the Bells Tolls is quite possibly on...</td>\n",
       "    </tr>\n",
       "    <tr>\n",
       "      <th>3</th>\n",
       "      <td>[0002550938]</td>\n",
       "      <td>[\"Sahara\" was about the seventh Dirk Pitt book...</td>\n",
       "    </tr>\n",
       "    <tr>\n",
       "      <th>4</th>\n",
       "      <td>[0006392202]</td>\n",
       "      <td>[Bart Crane is a criminal defense attorney wit...</td>\n",
       "    </tr>\n",
       "    <tr>\n",
       "      <th>5</th>\n",
       "      <td>[0006392202]</td>\n",
       "      <td>[I picked up a copy of Andrew Pyper's LOST GIR...</td>\n",
       "    </tr>\n",
       "    <tr>\n",
       "      <th>6</th>\n",
       "      <td>[0006476155]</td>\n",
       "      <td>[ALONG CAME A SPIDER by James Patterson.The pl...</td>\n",
       "    </tr>\n",
       "    <tr>\n",
       "      <th>7</th>\n",
       "      <td>[0006476155]</td>\n",
       "      <td>[I had heard that Patterson was a good writer....</td>\n",
       "    </tr>\n",
       "    <tr>\n",
       "      <th>8</th>\n",
       "      <td>[0006479758]</td>\n",
       "      <td>[Tom Clancy is back again. With vice-president...</td>\n",
       "    </tr>\n",
       "    <tr>\n",
       "      <th>9</th>\n",
       "      <td>[0006550436]</td>\n",
       "      <td>[Amy Tan has proven by now that she does one t...</td>\n",
       "    </tr>\n",
       "    <tr>\n",
       "      <th>10</th>\n",
       "      <td>[0006551807]</td>\n",
       "      <td>[Jhumpa Lahiri offers an authentic view into t...</td>\n",
       "    </tr>\n",
       "    <tr>\n",
       "      <th>11</th>\n",
       "      <td>[0007124015]</td>\n",
       "      <td>[I tried to read my brother's \"The Lord of the...</td>\n",
       "    </tr>\n",
       "    <tr>\n",
       "      <th>12</th>\n",
       "      <td>[0007149824]</td>\n",
       "      <td>[How could you take such an exciting idea and ...</td>\n",
       "    </tr>\n",
       "    <tr>\n",
       "      <th>13</th>\n",
       "      <td>[0007149824]</td>\n",
       "      <td>[I don't know whether Chabon is pleased, upset...</td>\n",
       "    </tr>\n",
       "    <tr>\n",
       "      <th>14</th>\n",
       "      <td>[0007167040]</td>\n",
       "      <td>[I bought this book for something to read afte...</td>\n",
       "    </tr>\n",
       "    <tr>\n",
       "      <th>15</th>\n",
       "      <td>[0007167040]</td>\n",
       "      <td>[Laura Hillenbrand takes research to the highe...</td>\n",
       "    </tr>\n",
       "    <tr>\n",
       "      <th>16</th>\n",
       "      <td>[0007167040]</td>\n",
       "      <td>[This review is for cynics like myself who dis...</td>\n",
       "    </tr>\n",
       "    <tr>\n",
       "      <th>17</th>\n",
       "      <td>[0007172826]</td>\n",
       "      <td>[I thought the writing was clean. The story un...</td>\n",
       "    </tr>\n",
       "    <tr>\n",
       "      <th>18</th>\n",
       "      <td>[0007189885]</td>\n",
       "      <td>[This is a terrific book across the board.  We...</td>\n",
       "    </tr>\n",
       "    <tr>\n",
       "      <th>19</th>\n",
       "      <td>[000720311X]</td>\n",
       "      <td>[I have not read any Dean Koontz novels for so...</td>\n",
       "    </tr>\n",
       "    <tr>\n",
       "      <th>20</th>\n",
       "      <td>[0007386648]</td>\n",
       "      <td>[I bought &amp; read this amazing book based on Am...</td>\n",
       "    </tr>\n",
       "    <tr>\n",
       "      <th>21</th>\n",
       "      <td>[0007420765]</td>\n",
       "      <td>[I like her style of writing, the plot and sus...</td>\n",
       "    </tr>\n",
       "  </tbody>\n",
       "</table>\n",
       "</div>"
      ],
      "text/plain": [
       "            asin                                         reviewText\n",
       "0   [0000000116]  [Interesting Grisham tale of a lawyer that tak...\n",
       "1   [0002007770]  [This book had very, very little depth.  I too...\n",
       "2   [0002051850]  [For Whom the Bells Tolls is quite possibly on...\n",
       "3   [0002550938]  [\"Sahara\" was about the seventh Dirk Pitt book...\n",
       "4   [0006392202]  [Bart Crane is a criminal defense attorney wit...\n",
       "5   [0006392202]  [I picked up a copy of Andrew Pyper's LOST GIR...\n",
       "6   [0006476155]  [ALONG CAME A SPIDER by James Patterson.The pl...\n",
       "7   [0006476155]  [I had heard that Patterson was a good writer....\n",
       "8   [0006479758]  [Tom Clancy is back again. With vice-president...\n",
       "9   [0006550436]  [Amy Tan has proven by now that she does one t...\n",
       "10  [0006551807]  [Jhumpa Lahiri offers an authentic view into t...\n",
       "11  [0007124015]  [I tried to read my brother's \"The Lord of the...\n",
       "12  [0007149824]  [How could you take such an exciting idea and ...\n",
       "13  [0007149824]  [I don't know whether Chabon is pleased, upset...\n",
       "14  [0007167040]  [I bought this book for something to read afte...\n",
       "15  [0007167040]  [Laura Hillenbrand takes research to the highe...\n",
       "16  [0007167040]  [This review is for cynics like myself who dis...\n",
       "17  [0007172826]  [I thought the writing was clean. The story un...\n",
       "18  [0007189885]  [This is a terrific book across the board.  We...\n",
       "19  [000720311X]  [I have not read any Dean Koontz novels for so...\n",
       "20  [0007386648]  [I bought & read this amazing book based on Am...\n",
       "21  [0007420765]  [I like her style of writing, the plot and sus..."
      ]
     },
     "execution_count": 8,
     "metadata": {},
     "output_type": "execute_result"
    }
   ],
   "source": [
    "#example two\n",
    "d2 = {'q': '*:*',  'fq': 'reviewText: Grisham', 'fl':'reviewText, asin','rows':'1000' } \n",
    "d_res2=solrWrap('bookstore',d2)\n",
    "d_res2"
   ]
  },
  {
   "cell_type": "code",
   "execution_count": 210,
   "metadata": {},
   "outputs": [
    {
     "name": "stdout",
     "output_type": "stream",
     "text": [
      "http://45.79.91.219:8983/solr/bookstore/select?q=*:*&\n",
      "http://45.79.91.219:8983/solr/bookstore/select?q=*:*&rows=77165&\n"
     ]
    },
    {
     "data": {
      "text/html": [
       "<div>\n",
       "<table border=\"1\" class=\"dataframe\">\n",
       "  <thead>\n",
       "    <tr style=\"text-align: right;\">\n",
       "      <th></th>\n",
       "      <th>_version_</th>\n",
       "      <th>asin</th>\n",
       "      <th>asin_str</th>\n",
       "      <th>id</th>\n",
       "      <th>reviewText</th>\n",
       "      <th>reviewText_str</th>\n",
       "      <th>reviewerID</th>\n",
       "      <th>reviewerID_str</th>\n",
       "    </tr>\n",
       "  </thead>\n",
       "  <tbody>\n",
       "    <tr>\n",
       "      <th>77160</th>\n",
       "      <td>1582297513738633219</td>\n",
       "      <td>[0007426224]</td>\n",
       "      <td>[0007426224]</td>\n",
       "      <td>3608d8ad-e0dc-42d1-9070-0b5937279a22</td>\n",
       "      <td>[John stack s books are an excellent and absor...</td>\n",
       "      <td>[John stack s books are an excellent and absor...</td>\n",
       "      <td>[A3681XFZ9T6BRO]</td>\n",
       "      <td>[A3681XFZ9T6BRO]</td>\n",
       "    </tr>\n",
       "    <tr>\n",
       "      <th>77161</th>\n",
       "      <td>1582297513738633220</td>\n",
       "      <td>[0007426224]</td>\n",
       "      <td>[0007426224]</td>\n",
       "      <td>4fb1a8ff-860b-48bd-aeeb-5b0364bfa987</td>\n",
       "      <td>[Great series, set in a very interesting time ...</td>\n",
       "      <td>[Great series, set in a very interesting time ...</td>\n",
       "      <td>[A3DAORPYFXTZMS]</td>\n",
       "      <td>[A3DAORPYFXTZMS]</td>\n",
       "    </tr>\n",
       "    <tr>\n",
       "      <th>77162</th>\n",
       "      <td>1582297513738633221</td>\n",
       "      <td>[0007426224]</td>\n",
       "      <td>[0007426224]</td>\n",
       "      <td>a9f3122b-6bdc-4231-bf00-cc35afb844e8</td>\n",
       "      <td>[I really like John Stack and this series but ...</td>\n",
       "      <td>[I really like John Stack and this series but ...</td>\n",
       "      <td>[A1VKROSQK55S18]</td>\n",
       "      <td>[A1VKROSQK55S18]</td>\n",
       "    </tr>\n",
       "    <tr>\n",
       "      <th>77163</th>\n",
       "      <td>1582297513738633222</td>\n",
       "      <td>[0007426224]</td>\n",
       "      <td>[0007426224]</td>\n",
       "      <td>4a866465-047a-4d3b-8955-edf3e101c0b2</td>\n",
       "      <td>[This is a good series. You can read each book...</td>\n",
       "      <td>[This is a good series. You can read each book...</td>\n",
       "      <td>[A2S36A7V2RWJO6]</td>\n",
       "      <td>[A2S36A7V2RWJO6]</td>\n",
       "    </tr>\n",
       "    <tr>\n",
       "      <th>77164</th>\n",
       "      <td>1582297513738633223</td>\n",
       "      <td>[000742695X]</td>\n",
       "      <td>[000742695X]</td>\n",
       "      <td>abf98785-4af2-41d8-94b4-7ddb57867d3c</td>\n",
       "      <td>[This is an incredibly useful book and one tha...</td>\n",
       "      <td>[This is an incredibly useful book and one tha...</td>\n",
       "      <td>[A3N4EDXJTN8IP8]</td>\n",
       "      <td>[A3N4EDXJTN8IP8]</td>\n",
       "    </tr>\n",
       "  </tbody>\n",
       "</table>\n",
       "</div>"
      ],
      "text/plain": [
       "                 _version_          asin      asin_str  \\\n",
       "77160  1582297513738633219  [0007426224]  [0007426224]   \n",
       "77161  1582297513738633220  [0007426224]  [0007426224]   \n",
       "77162  1582297513738633221  [0007426224]  [0007426224]   \n",
       "77163  1582297513738633222  [0007426224]  [0007426224]   \n",
       "77164  1582297513738633223  [000742695X]  [000742695X]   \n",
       "\n",
       "                                         id  \\\n",
       "77160  3608d8ad-e0dc-42d1-9070-0b5937279a22   \n",
       "77161  4fb1a8ff-860b-48bd-aeeb-5b0364bfa987   \n",
       "77162  a9f3122b-6bdc-4231-bf00-cc35afb844e8   \n",
       "77163  4a866465-047a-4d3b-8955-edf3e101c0b2   \n",
       "77164  abf98785-4af2-41d8-94b4-7ddb57867d3c   \n",
       "\n",
       "                                              reviewText  \\\n",
       "77160  [John stack s books are an excellent and absor...   \n",
       "77161  [Great series, set in a very interesting time ...   \n",
       "77162  [I really like John Stack and this series but ...   \n",
       "77163  [This is a good series. You can read each book...   \n",
       "77164  [This is an incredibly useful book and one tha...   \n",
       "\n",
       "                                          reviewText_str        reviewerID  \\\n",
       "77160  [John stack s books are an excellent and absor...  [A3681XFZ9T6BRO]   \n",
       "77161  [Great series, set in a very interesting time ...  [A3DAORPYFXTZMS]   \n",
       "77162  [I really like John Stack and this series but ...  [A1VKROSQK55S18]   \n",
       "77163  [This is a good series. You can read each book...  [A2S36A7V2RWJO6]   \n",
       "77164  [This is an incredibly useful book and one tha...  [A3N4EDXJTN8IP8]   \n",
       "\n",
       "         reviewerID_str  \n",
       "77160  [A3681XFZ9T6BRO]  \n",
       "77161  [A3DAORPYFXTZMS]  \n",
       "77162  [A1VKROSQK55S18]  \n",
       "77163  [A2S36A7V2RWJO6]  \n",
       "77164  [A3N4EDXJTN8IP8]  "
      ]
     },
     "execution_count": 210,
     "metadata": {},
     "output_type": "execute_result"
    }
   ],
   "source": [
    "#bringing all the data rows for our sentiment polarity analysis\n",
    "d3 = {'q': '*:*','rows':'77165' } \n",
    "d_res3=solrWrap('bookstore',d3)\n",
    "d_res3.tail()"
   ]
  },
  {
   "cell_type": "code",
   "execution_count": 218,
   "metadata": {},
   "outputs": [
    {
     "data": {
      "text/plain": [
       "77165"
      ]
     },
     "execution_count": 218,
     "metadata": {},
     "output_type": "execute_result"
    }
   ],
   "source": [
    "d_res3.shape[0]\n"
   ]
  },
  {
   "cell_type": "code",
   "execution_count": 219,
   "metadata": {
    "collapsed": true
   },
   "outputs": [],
   "source": [
    "from __future__ import division, unicode_literals \n",
    "import math\n",
    "from textblob import TextBlob as tb\n"
   ]
  },
  {
   "cell_type": "code",
   "execution_count": 220,
   "metadata": {},
   "outputs": [],
   "source": [
    "# calculating sentiment polarity, the values ranges from -1 to 1\n",
    "polarity_measure=[]\n",
    "for i in range(d_res3.shape[0]):\n",
    "    str1 = str(d_res3.reviewText[i]).encode('ascii')\n",
    "    blob=tb(str1)\n",
    "    polarity_measure.append(blob.sentiment.polarity)\n",
    "    "
   ]
  },
  {
   "cell_type": "code",
   "execution_count": 248,
   "metadata": {},
   "outputs": [],
   "source": [
    "import pandas as pd\n",
    "se = pd.Series(polarity_measure)\n",
    "d_res3['Sentiment_polarity'] = se.values"
   ]
  },
  {
   "cell_type": "code",
   "execution_count": 249,
   "metadata": {},
   "outputs": [
    {
     "data": {
      "text/html": [
       "<div>\n",
       "<table border=\"1\" class=\"dataframe\">\n",
       "  <thead>\n",
       "    <tr style=\"text-align: right;\">\n",
       "      <th></th>\n",
       "      <th>_version_</th>\n",
       "      <th>asin</th>\n",
       "      <th>asin_str</th>\n",
       "      <th>id</th>\n",
       "      <th>reviewText</th>\n",
       "      <th>reviewText_str</th>\n",
       "      <th>reviewerID</th>\n",
       "      <th>reviewerID_str</th>\n",
       "      <th>Sentiment_polarity</th>\n",
       "    </tr>\n",
       "  </thead>\n",
       "  <tbody>\n",
       "    <tr>\n",
       "      <th>0</th>\n",
       "      <td>1582297498213416960</td>\n",
       "      <td>'00004771</td>\n",
       "      <td>[000047715X]</td>\n",
       "      <td>0eb6691f-ab54-44c6-9b93-ac5db453640f</td>\n",
       "      <td>[Very thorough review of MKSAP and a great com...</td>\n",
       "      <td>[Very thorough review of MKSAP and a great com...</td>\n",
       "      <td>[A2CAVTNQA2Y3IJ]</td>\n",
       "      <td>[A2CAVTNQA2Y3IJ]</td>\n",
       "      <td>0.177273</td>\n",
       "    </tr>\n",
       "    <tr>\n",
       "      <th>1</th>\n",
       "      <td>1582297498339246080</td>\n",
       "      <td>'00000001</td>\n",
       "      <td>[0000000116]</td>\n",
       "      <td>82634ca3-81a4-468d-bf25-1e055c8a974d</td>\n",
       "      <td>[Interesting Grisham tale of a lawyer that tak...</td>\n",
       "      <td>[Interesting Grisham tale of a lawyer that tak...</td>\n",
       "      <td>[AH2L9G3DQHHAJ]</td>\n",
       "      <td>[AH2L9G3DQHHAJ]</td>\n",
       "      <td>0.250000</td>\n",
       "    </tr>\n",
       "    <tr>\n",
       "      <th>2</th>\n",
       "      <td>1582297498346586112</td>\n",
       "      <td>'00000001</td>\n",
       "      <td>[0000000116]</td>\n",
       "      <td>7851bb38-4811-45ce-a4e0-199e7f1f3c95</td>\n",
       "      <td>[The thumbnail is a shirt.  The product shown ...</td>\n",
       "      <td>[The thumbnail is a shirt.  The product shown ...</td>\n",
       "      <td>[A2IIIDRK3PRRZY]</td>\n",
       "      <td>[A2IIIDRK3PRRZY]</td>\n",
       "      <td>-0.400000</td>\n",
       "    </tr>\n",
       "    <tr>\n",
       "      <th>3</th>\n",
       "      <td>1582297498348683264</td>\n",
       "      <td>'00000008</td>\n",
       "      <td>[0000000868]</td>\n",
       "      <td>77c7f516-10b9-4bc3-a7c3-abecf6be3710</td>\n",
       "      <td>[I'll be honest. I work for a large online ret...</td>\n",
       "      <td>[I'll be honest. I work for a large online ret...</td>\n",
       "      <td>[A1TADCM7YWPQ8M]</td>\n",
       "      <td>[A1TADCM7YWPQ8M]</td>\n",
       "      <td>0.070760</td>\n",
       "    </tr>\n",
       "    <tr>\n",
       "      <th>4</th>\n",
       "      <td>1582297498358120448</td>\n",
       "      <td>'00000137</td>\n",
       "      <td>[0000013714]</td>\n",
       "      <td>60aa1298-4ddb-4439-aae0-18f59c02e94d</td>\n",
       "      <td>[It had all the songs I wanted but I had order...</td>\n",
       "      <td>[It had all the songs I wanted but I had order...</td>\n",
       "      <td>[AWGH7V0BDOJKB]</td>\n",
       "      <td>[AWGH7V0BDOJKB]</td>\n",
       "      <td>0.071429</td>\n",
       "    </tr>\n",
       "  </tbody>\n",
       "</table>\n",
       "</div>"
      ],
      "text/plain": [
       "             _version_       asin      asin_str  \\\n",
       "0  1582297498213416960  '00004771  [000047715X]   \n",
       "1  1582297498339246080  '00000001  [0000000116]   \n",
       "2  1582297498346586112  '00000001  [0000000116]   \n",
       "3  1582297498348683264  '00000008  [0000000868]   \n",
       "4  1582297498358120448  '00000137  [0000013714]   \n",
       "\n",
       "                                     id  \\\n",
       "0  0eb6691f-ab54-44c6-9b93-ac5db453640f   \n",
       "1  82634ca3-81a4-468d-bf25-1e055c8a974d   \n",
       "2  7851bb38-4811-45ce-a4e0-199e7f1f3c95   \n",
       "3  77c7f516-10b9-4bc3-a7c3-abecf6be3710   \n",
       "4  60aa1298-4ddb-4439-aae0-18f59c02e94d   \n",
       "\n",
       "                                          reviewText  \\\n",
       "0  [Very thorough review of MKSAP and a great com...   \n",
       "1  [Interesting Grisham tale of a lawyer that tak...   \n",
       "2  [The thumbnail is a shirt.  The product shown ...   \n",
       "3  [I'll be honest. I work for a large online ret...   \n",
       "4  [It had all the songs I wanted but I had order...   \n",
       "\n",
       "                                      reviewText_str        reviewerID  \\\n",
       "0  [Very thorough review of MKSAP and a great com...  [A2CAVTNQA2Y3IJ]   \n",
       "1  [Interesting Grisham tale of a lawyer that tak...   [AH2L9G3DQHHAJ]   \n",
       "2  [The thumbnail is a shirt.  The product shown ...  [A2IIIDRK3PRRZY]   \n",
       "3  [I'll be honest. I work for a large online ret...  [A1TADCM7YWPQ8M]   \n",
       "4  [It had all the songs I wanted but I had order...   [AWGH7V0BDOJKB]   \n",
       "\n",
       "     reviewerID_str  Sentiment_polarity  \n",
       "0  [A2CAVTNQA2Y3IJ]            0.177273  \n",
       "1   [AH2L9G3DQHHAJ]            0.250000  \n",
       "2  [A2IIIDRK3PRRZY]           -0.400000  \n",
       "3  [A1TADCM7YWPQ8M]            0.070760  \n",
       "4   [AWGH7V0BDOJKB]            0.071429  "
      ]
     },
     "execution_count": 249,
     "metadata": {},
     "output_type": "execute_result"
    }
   ],
   "source": [
    "d_res3.head()"
   ]
  },
  {
   "cell_type": "code",
   "execution_count": 254,
   "metadata": {},
   "outputs": [],
   "source": [
    "d_res3['asin']=d_res3['asin_str'].apply(lambda x:str(x)[1:-1]) #converting list values to string for groupby operation"
   ]
  },
  {
   "cell_type": "code",
   "execution_count": 255,
   "metadata": {},
   "outputs": [],
   "source": [
    "df_sentiment=d_res3.groupby(['asin'],as_index=False)['Sentiment_polarity'].mean() #average sentiment polarity per product"
   ]
  },
  {
   "cell_type": "code",
   "execution_count": 265,
   "metadata": {},
   "outputs": [
    {
     "data": {
      "text/plain": [
       "(4040, 2)"
      ]
     },
     "execution_count": 265,
     "metadata": {},
     "output_type": "execute_result"
    }
   ],
   "source": [
    "df_sentiment.shape"
   ]
  },
  {
   "cell_type": "code",
   "execution_count": 263,
   "metadata": {
    "scrolled": true
   },
   "outputs": [
    {
     "data": {
      "text/html": [
       "<div>\n",
       "<table border=\"1\" class=\"dataframe\">\n",
       "  <thead>\n",
       "    <tr style=\"text-align: right;\">\n",
       "      <th></th>\n",
       "      <th>asin</th>\n",
       "      <th>Sentiment_polarity</th>\n",
       "    </tr>\n",
       "  </thead>\n",
       "  <tbody>\n",
       "    <tr>\n",
       "      <th>0</th>\n",
       "      <td>u'0000000116'</td>\n",
       "      <td>-0.075000</td>\n",
       "    </tr>\n",
       "    <tr>\n",
       "      <th>1</th>\n",
       "      <td>u'0000000868'</td>\n",
       "      <td>0.070760</td>\n",
       "    </tr>\n",
       "    <tr>\n",
       "      <th>2</th>\n",
       "      <td>u'0000013714'</td>\n",
       "      <td>0.409443</td>\n",
       "    </tr>\n",
       "    <tr>\n",
       "      <th>3</th>\n",
       "      <td>u'0000015393'</td>\n",
       "      <td>0.185000</td>\n",
       "    </tr>\n",
       "    <tr>\n",
       "      <th>4</th>\n",
       "      <td>u'0000029831'</td>\n",
       "      <td>0.048483</td>\n",
       "    </tr>\n",
       "  </tbody>\n",
       "</table>\n",
       "</div>"
      ],
      "text/plain": [
       "            asin  Sentiment_polarity\n",
       "0  u'0000000116'           -0.075000\n",
       "1  u'0000000868'            0.070760\n",
       "2  u'0000013714'            0.409443\n",
       "3  u'0000015393'            0.185000\n",
       "4  u'0000029831'            0.048483"
      ]
     },
     "execution_count": 263,
     "metadata": {},
     "output_type": "execute_result"
    }
   ],
   "source": [
    "df_sentiment.head() # now this dataframe needs to be compared against product by nodeid and to classification for category"
   ]
  },
  {
   "cell_type": "code",
   "execution_count": null,
   "metadata": {
    "collapsed": true
   },
   "outputs": [],
   "source": []
  }
 ],
 "metadata": {
  "kernelspec": {
   "display_name": "Python [default]",
   "language": "python",
   "name": "python2"
  },
  "language_info": {
   "codemirror_mode": {
    "name": "ipython",
    "version": 2
   },
   "file_extension": ".py",
   "mimetype": "text/x-python",
   "name": "python",
   "nbconvert_exporter": "python",
   "pygments_lexer": "ipython2",
   "version": "2.7.13"
  }
 },
 "nbformat": 4,
 "nbformat_minor": 2
}
