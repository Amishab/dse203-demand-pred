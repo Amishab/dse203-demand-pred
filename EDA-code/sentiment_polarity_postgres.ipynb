{
 "cells": [
  {
   "cell_type": "code",
   "execution_count": 1,
   "metadata": {
    "collapsed": true
   },
   "outputs": [],
   "source": [
    "import pandas as pd\n",
    "import psycopg2 \n",
    "from textblob import TextBlob as tb"
   ]
  },
  {
   "cell_type": "code",
   "execution_count": 2,
   "metadata": {},
   "outputs": [
    {
     "name": "stdout",
     "output_type": "stream",
     "text": [
      "Connecting to database\n",
      "\t->host='132.249.238.27' dbname='bookstore_dp' user='student' password='123456'\n",
      "Connected!\n",
      "\n"
     ]
    }
   ],
   "source": [
    "#connecting to postgres from SDSC servers, MAKE SURE TO VPN\n",
    "conn_string = \"host='132.249.238.27' dbname='bookstore_dp' user='student' password='123456'\"\n",
    "print (\"Connecting to database\\n\t->%s\"% (conn_string))\n",
    "conn = psycopg2.connect(conn_string)\n",
    "cursor = conn.cursor()\n",
    "print (\"Connected!\\n\")"
   ]
  },
  {
   "cell_type": "code",
   "execution_count": 21,
   "metadata": {
    "collapsed": true
   },
   "outputs": [],
   "source": [
    "sql1=\"SELECT * from reviews limit 1000\"\n",
    "cursor.execute(sql1)\n",
    "records=cursor.fetchall()\n",
    "#Find Column Names for dataframe headers\n",
    "colnames = [desc[0] for desc in cursor.description]\n",
    "#constructing dataframe\n",
    "df_reviews=pd.DataFrame(records, columns=colnames)"
   ]
  },
  {
   "cell_type": "code",
   "execution_count": 22,
   "metadata": {
    "scrolled": true
   },
   "outputs": [
    {
     "data": {
      "text/html": [
       "<div>\n",
       "<style>\n",
       "    .dataframe thead tr:only-child th {\n",
       "        text-align: right;\n",
       "    }\n",
       "\n",
       "    .dataframe thead th {\n",
       "        text-align: left;\n",
       "    }\n",
       "\n",
       "    .dataframe tbody tr th {\n",
       "        vertical-align: top;\n",
       "    }\n",
       "</style>\n",
       "<table border=\"1\" class=\"dataframe\">\n",
       "  <thead>\n",
       "    <tr style=\"text-align: right;\">\n",
       "      <th></th>\n",
       "      <th>reviewid</th>\n",
       "      <th>asin</th>\n",
       "      <th>reviewername</th>\n",
       "      <th>helpful</th>\n",
       "      <th>unixreviewtime</th>\n",
       "      <th>reviewtext</th>\n",
       "      <th>overall</th>\n",
       "      <th>reviewtime</th>\n",
       "      <th>summary</th>\n",
       "    </tr>\n",
       "  </thead>\n",
       "  <tbody>\n",
       "    <tr>\n",
       "      <th>0</th>\n",
       "      <td>AX9515ESJDLU4</td>\n",
       "      <td>0007267622</td>\n",
       "      <td>Deann Jackson \"readalicious\"</td>\n",
       "      <td>[0, 0]</td>\n",
       "      <td>1265500800</td>\n",
       "      <td>I have been looking forward to this book ever ...</td>\n",
       "      <td>3.00</td>\n",
       "      <td>2010-02-07</td>\n",
       "      <td>Readable, I guess.</td>\n",
       "    </tr>\n",
       "    <tr>\n",
       "      <th>1</th>\n",
       "      <td>A3O5Z02LCF1H8G</td>\n",
       "      <td>0007267622</td>\n",
       "      <td>Debbie</td>\n",
       "      <td>[1, 2]</td>\n",
       "      <td>1300320000</td>\n",
       "      <td>I have never read a Dean Koontz book before, b...</td>\n",
       "      <td>1.00</td>\n",
       "      <td>2011-03-17</td>\n",
       "      <td>Waste of my time</td>\n",
       "    </tr>\n",
       "    <tr>\n",
       "      <th>2</th>\n",
       "      <td>A3AOOJOCST7YIB</td>\n",
       "      <td>0007267622</td>\n",
       "      <td>deborah</td>\n",
       "      <td>[5, 8]</td>\n",
       "      <td>1259193600</td>\n",
       "      <td>i dont know how he does it  but dean koontz ha...</td>\n",
       "      <td>5.00</td>\n",
       "      <td>2009-11-26</td>\n",
       "      <td>breathless</td>\n",
       "    </tr>\n",
       "    <tr>\n",
       "      <th>3</th>\n",
       "      <td>A3R9X003XW0LNR</td>\n",
       "      <td>0007267622</td>\n",
       "      <td>Deborah Verlen \"Deborah\"</td>\n",
       "      <td>[1, 2]</td>\n",
       "      <td>1261699200</td>\n",
       "      <td>I am a huge Dean Koontz fan and also absolutel...</td>\n",
       "      <td>3.00</td>\n",
       "      <td>2009-12-25</td>\n",
       "      <td>I'm not sure what to say...</td>\n",
       "    </tr>\n",
       "    <tr>\n",
       "      <th>4</th>\n",
       "      <td>A1LR05CIW9Z65M</td>\n",
       "      <td>0007267622</td>\n",
       "      <td>Debs \"maplemaiden\"</td>\n",
       "      <td>[2, 6]</td>\n",
       "      <td>1259539200</td>\n",
       "      <td>I have been a Kuntz fan for years and this one...</td>\n",
       "      <td>5.00</td>\n",
       "      <td>2009-11-30</td>\n",
       "      <td>Breathless</td>\n",
       "    </tr>\n",
       "  </tbody>\n",
       "</table>\n",
       "</div>"
      ],
      "text/plain": [
       "         reviewid        asin                  reviewername helpful  \\\n",
       "0   AX9515ESJDLU4  0007267622  Deann Jackson \"readalicious\"  [0, 0]   \n",
       "1  A3O5Z02LCF1H8G  0007267622                        Debbie  [1, 2]   \n",
       "2  A3AOOJOCST7YIB  0007267622                       deborah  [5, 8]   \n",
       "3  A3R9X003XW0LNR  0007267622      Deborah Verlen \"Deborah\"  [1, 2]   \n",
       "4  A1LR05CIW9Z65M  0007267622            Debs \"maplemaiden\"  [2, 6]   \n",
       "\n",
       "   unixreviewtime                                         reviewtext overall  \\\n",
       "0      1265500800  I have been looking forward to this book ever ...    3.00   \n",
       "1      1300320000  I have never read a Dean Koontz book before, b...    1.00   \n",
       "2      1259193600  i dont know how he does it  but dean koontz ha...    5.00   \n",
       "3      1261699200  I am a huge Dean Koontz fan and also absolutel...    3.00   \n",
       "4      1259539200  I have been a Kuntz fan for years and this one...    5.00   \n",
       "\n",
       "  reviewtime                      summary  \n",
       "0 2010-02-07           Readable, I guess.  \n",
       "1 2011-03-17             Waste of my time  \n",
       "2 2009-11-26                   breathless  \n",
       "3 2009-12-25  I'm not sure what to say...  \n",
       "4 2009-11-30                   Breathless  "
      ]
     },
     "execution_count": 22,
     "metadata": {},
     "output_type": "execute_result"
    }
   ],
   "source": [
    "df_reviews.head()"
   ]
  },
  {
   "cell_type": "code",
   "execution_count": 23,
   "metadata": {},
   "outputs": [
    {
     "data": {
      "text/plain": [
       "(1000, 9)"
      ]
     },
     "execution_count": 23,
     "metadata": {},
     "output_type": "execute_result"
    }
   ],
   "source": [
    "df_reviews.shape"
   ]
  },
  {
   "cell_type": "code",
   "execution_count": 24,
   "metadata": {
    "collapsed": true
   },
   "outputs": [],
   "source": [
    "# calculating sentiment polarity, the values ranges from -1 to 1\n",
    "polarity_measure=[]\n",
    "for i in range(df_reviews.shape[0]):\n",
    "    str1 = str(df_reviews.reviewtext[i])\n",
    "    blob=tb(str1)\n",
    "    polarity_measure.append(blob.sentiment.polarity)"
   ]
  },
  {
   "cell_type": "code",
   "execution_count": 25,
   "metadata": {
    "collapsed": true
   },
   "outputs": [],
   "source": [
    "se = pd.Series(polarity_measure)\n",
    "df_reviews['Sentiment_polarity'] = se.values\n"
   ]
  },
  {
   "cell_type": "code",
   "execution_count": 26,
   "metadata": {},
   "outputs": [
    {
     "data": {
      "text/html": [
       "<div>\n",
       "<style>\n",
       "    .dataframe thead tr:only-child th {\n",
       "        text-align: right;\n",
       "    }\n",
       "\n",
       "    .dataframe thead th {\n",
       "        text-align: left;\n",
       "    }\n",
       "\n",
       "    .dataframe tbody tr th {\n",
       "        vertical-align: top;\n",
       "    }\n",
       "</style>\n",
       "<table border=\"1\" class=\"dataframe\">\n",
       "  <thead>\n",
       "    <tr style=\"text-align: right;\">\n",
       "      <th></th>\n",
       "      <th>reviewid</th>\n",
       "      <th>asin</th>\n",
       "      <th>reviewername</th>\n",
       "      <th>helpful</th>\n",
       "      <th>unixreviewtime</th>\n",
       "      <th>reviewtext</th>\n",
       "      <th>overall</th>\n",
       "      <th>reviewtime</th>\n",
       "      <th>summary</th>\n",
       "      <th>Sentiment_polarity</th>\n",
       "    </tr>\n",
       "  </thead>\n",
       "  <tbody>\n",
       "    <tr>\n",
       "      <th>0</th>\n",
       "      <td>AX9515ESJDLU4</td>\n",
       "      <td>0007267622</td>\n",
       "      <td>Deann Jackson \"readalicious\"</td>\n",
       "      <td>[0, 0]</td>\n",
       "      <td>1265500800</td>\n",
       "      <td>I have been looking forward to this book ever ...</td>\n",
       "      <td>3.00</td>\n",
       "      <td>2010-02-07</td>\n",
       "      <td>Readable, I guess.</td>\n",
       "      <td>-0.005833</td>\n",
       "    </tr>\n",
       "    <tr>\n",
       "      <th>1</th>\n",
       "      <td>A3O5Z02LCF1H8G</td>\n",
       "      <td>0007267622</td>\n",
       "      <td>Debbie</td>\n",
       "      <td>[1, 2]</td>\n",
       "      <td>1300320000</td>\n",
       "      <td>I have never read a Dean Koontz book before, b...</td>\n",
       "      <td>1.00</td>\n",
       "      <td>2011-03-17</td>\n",
       "      <td>Waste of my time</td>\n",
       "      <td>0.165774</td>\n",
       "    </tr>\n",
       "    <tr>\n",
       "      <th>2</th>\n",
       "      <td>A3AOOJOCST7YIB</td>\n",
       "      <td>0007267622</td>\n",
       "      <td>deborah</td>\n",
       "      <td>[5, 8]</td>\n",
       "      <td>1259193600</td>\n",
       "      <td>i dont know how he does it  but dean koontz ha...</td>\n",
       "      <td>5.00</td>\n",
       "      <td>2009-11-26</td>\n",
       "      <td>breathless</td>\n",
       "      <td>0.000000</td>\n",
       "    </tr>\n",
       "    <tr>\n",
       "      <th>3</th>\n",
       "      <td>A3R9X003XW0LNR</td>\n",
       "      <td>0007267622</td>\n",
       "      <td>Deborah Verlen \"Deborah\"</td>\n",
       "      <td>[1, 2]</td>\n",
       "      <td>1261699200</td>\n",
       "      <td>I am a huge Dean Koontz fan and also absolutel...</td>\n",
       "      <td>3.00</td>\n",
       "      <td>2009-12-25</td>\n",
       "      <td>I'm not sure what to say...</td>\n",
       "      <td>0.207947</td>\n",
       "    </tr>\n",
       "    <tr>\n",
       "      <th>4</th>\n",
       "      <td>A1LR05CIW9Z65M</td>\n",
       "      <td>0007267622</td>\n",
       "      <td>Debs \"maplemaiden\"</td>\n",
       "      <td>[2, 6]</td>\n",
       "      <td>1259539200</td>\n",
       "      <td>I have been a Kuntz fan for years and this one...</td>\n",
       "      <td>5.00</td>\n",
       "      <td>2009-11-30</td>\n",
       "      <td>Breathless</td>\n",
       "      <td>0.550000</td>\n",
       "    </tr>\n",
       "  </tbody>\n",
       "</table>\n",
       "</div>"
      ],
      "text/plain": [
       "         reviewid        asin                  reviewername helpful  \\\n",
       "0   AX9515ESJDLU4  0007267622  Deann Jackson \"readalicious\"  [0, 0]   \n",
       "1  A3O5Z02LCF1H8G  0007267622                        Debbie  [1, 2]   \n",
       "2  A3AOOJOCST7YIB  0007267622                       deborah  [5, 8]   \n",
       "3  A3R9X003XW0LNR  0007267622      Deborah Verlen \"Deborah\"  [1, 2]   \n",
       "4  A1LR05CIW9Z65M  0007267622            Debs \"maplemaiden\"  [2, 6]   \n",
       "\n",
       "   unixreviewtime                                         reviewtext overall  \\\n",
       "0      1265500800  I have been looking forward to this book ever ...    3.00   \n",
       "1      1300320000  I have never read a Dean Koontz book before, b...    1.00   \n",
       "2      1259193600  i dont know how he does it  but dean koontz ha...    5.00   \n",
       "3      1261699200  I am a huge Dean Koontz fan and also absolutel...    3.00   \n",
       "4      1259539200  I have been a Kuntz fan for years and this one...    5.00   \n",
       "\n",
       "  reviewtime                      summary  Sentiment_polarity  \n",
       "0 2010-02-07           Readable, I guess.           -0.005833  \n",
       "1 2011-03-17             Waste of my time            0.165774  \n",
       "2 2009-11-26                   breathless            0.000000  \n",
       "3 2009-12-25  I'm not sure what to say...            0.207947  \n",
       "4 2009-11-30                   Breathless            0.550000  "
      ]
     },
     "execution_count": 26,
     "metadata": {},
     "output_type": "execute_result"
    }
   ],
   "source": [
    "df_reviews.head()"
   ]
  },
  {
   "cell_type": "code",
   "execution_count": 27,
   "metadata": {
    "collapsed": true
   },
   "outputs": [],
   "source": [
    "#average sentiment polarity per product\n",
    "df_sentiment=df_reviews.groupby(['asin'],as_index=False)['Sentiment_polarity'].mean()"
   ]
  },
  {
   "cell_type": "code",
   "execution_count": 29,
   "metadata": {},
   "outputs": [
    {
     "data": {
      "text/html": [
       "<div>\n",
       "<style>\n",
       "    .dataframe thead tr:only-child th {\n",
       "        text-align: right;\n",
       "    }\n",
       "\n",
       "    .dataframe thead th {\n",
       "        text-align: left;\n",
       "    }\n",
       "\n",
       "    .dataframe tbody tr th {\n",
       "        vertical-align: top;\n",
       "    }\n",
       "</style>\n",
       "<table border=\"1\" class=\"dataframe\">\n",
       "  <thead>\n",
       "    <tr style=\"text-align: right;\">\n",
       "      <th></th>\n",
       "      <th>asin</th>\n",
       "      <th>Sentiment_polarity</th>\n",
       "    </tr>\n",
       "  </thead>\n",
       "  <tbody>\n",
       "    <tr>\n",
       "      <th>0</th>\n",
       "      <td>0007267622</td>\n",
       "      <td>0.136762</td>\n",
       "    </tr>\n",
       "    <tr>\n",
       "      <th>1</th>\n",
       "      <td>0007267770</td>\n",
       "      <td>0.433333</td>\n",
       "    </tr>\n",
       "    <tr>\n",
       "      <th>2</th>\n",
       "      <td>0007267886</td>\n",
       "      <td>0.666667</td>\n",
       "    </tr>\n",
       "    <tr>\n",
       "      <th>3</th>\n",
       "      <td>0007268440</td>\n",
       "      <td>0.089849</td>\n",
       "    </tr>\n",
       "    <tr>\n",
       "      <th>4</th>\n",
       "      <td>0007268505</td>\n",
       "      <td>0.376935</td>\n",
       "    </tr>\n",
       "  </tbody>\n",
       "</table>\n",
       "</div>"
      ],
      "text/plain": [
       "         asin  Sentiment_polarity\n",
       "0  0007267622            0.136762\n",
       "1  0007267770            0.433333\n",
       "2  0007267886            0.666667\n",
       "3  0007268440            0.089849\n",
       "4  0007268505            0.376935"
      ]
     },
     "execution_count": 29,
     "metadata": {},
     "output_type": "execute_result"
    }
   ],
   "source": [
    "df_sentiment.head()"
   ]
  },
  {
   "cell_type": "code",
   "execution_count": null,
   "metadata": {
    "collapsed": true
   },
   "outputs": [],
   "source": []
  }
 ],
 "metadata": {
  "kernelspec": {
   "display_name": "Python 3",
   "language": "python",
   "name": "python3"
  },
  "language_info": {
   "codemirror_mode": {
    "name": "ipython",
    "version": 3
   },
   "file_extension": ".py",
   "mimetype": "text/x-python",
   "name": "python",
   "nbconvert_exporter": "python",
   "pygments_lexer": "ipython3",
   "version": "3.6.3"
  }
 },
 "nbformat": 4,
 "nbformat_minor": 2
}
