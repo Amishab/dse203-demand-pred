{
 "cells": [
  {
   "cell_type": "markdown",
   "metadata": {},
   "source": [
    "# Demand Prediction \n",
    "## DSE203\n",
    "## Machine Learning Team"
   ]
  },
  {
   "cell_type": "markdown",
   "metadata": {},
   "source": [
    "### We've previously shown 4 supercategories. We'll make a regression model for each category."
   ]
  },
  {
   "cell_type": "code",
   "execution_count": 1,
   "metadata": {
    "collapsed": true
   },
   "outputs": [],
   "source": [
    "import numpy as np\n",
    "import matplotlib.pyplot as plt\n",
    "%matplotlib inline"
   ]
  },
  {
   "cell_type": "markdown",
   "metadata": {},
   "source": [
    "## Load the data"
   ]
  },
  {
   "cell_type": "code",
   "execution_count": 2,
   "metadata": {
    "collapsed": true
   },
   "outputs": [],
   "source": [
    "import pandas as pd"
   ]
  },
  {
   "cell_type": "code",
   "execution_count": 100,
   "metadata": {
    "collapsed": false
   },
   "outputs": [],
   "source": [
    "sc = 1\n",
    "df = pd.read_csv('ML_feat_cat{}.csv'.format(sc))\n",
    "df = df.drop(df.columns[0], axis=1)"
   ]
  },
  {
   "cell_type": "code",
   "execution_count": 101,
   "metadata": {
    "collapsed": false
   },
   "outputs": [
    {
     "data": {
      "text/html": [
       "<div>\n",
       "<style>\n",
       "    .dataframe thead tr:only-child th {\n",
       "        text-align: right;\n",
       "    }\n",
       "\n",
       "    .dataframe thead th {\n",
       "        text-align: left;\n",
       "    }\n",
       "\n",
       "    .dataframe tbody tr th {\n",
       "        vertical-align: top;\n",
       "    }\n",
       "</style>\n",
       "<table border=\"1\" class=\"dataframe\">\n",
       "  <thead>\n",
       "    <tr style=\"text-align: right;\">\n",
       "      <th></th>\n",
       "      <th>nodeid</th>\n",
       "      <th>mon</th>\n",
       "      <th>yr</th>\n",
       "      <th>total_sales_volume</th>\n",
       "      <th>total_sales_price</th>\n",
       "      <th>pm_total_sales_volume</th>\n",
       "      <th>pm_total_sales_price</th>\n",
       "      <th>l3m_total_sales_volume</th>\n",
       "      <th>l3m_total_sales_price</th>\n",
       "      <th>l12m_total_sales_volume</th>\n",
       "      <th>l12m_total_sales_price</th>\n",
       "      <th>numreviews_by_period</th>\n",
       "      <th>avgrating_by_period</th>\n",
       "      <th>numreviews</th>\n",
       "      <th>avgrating</th>\n",
       "    </tr>\n",
       "  </thead>\n",
       "  <tbody>\n",
       "    <tr>\n",
       "      <th>0</th>\n",
       "      <td>2950</td>\n",
       "      <td>2.0</td>\n",
       "      <td>2012.0</td>\n",
       "      <td>12</td>\n",
       "      <td>123.65</td>\n",
       "      <td>22</td>\n",
       "      <td>229.93</td>\n",
       "      <td>130</td>\n",
       "      <td>1298.76</td>\n",
       "      <td>1327</td>\n",
       "      <td>14450.32</td>\n",
       "      <td>0.0</td>\n",
       "      <td>0.0</td>\n",
       "      <td>7.0</td>\n",
       "      <td>3.57</td>\n",
       "    </tr>\n",
       "    <tr>\n",
       "      <th>1</th>\n",
       "      <td>2950</td>\n",
       "      <td>2.0</td>\n",
       "      <td>2013.0</td>\n",
       "      <td>9</td>\n",
       "      <td>99.31</td>\n",
       "      <td>10</td>\n",
       "      <td>119.88</td>\n",
       "      <td>76</td>\n",
       "      <td>889.71</td>\n",
       "      <td>275</td>\n",
       "      <td>3054.69</td>\n",
       "      <td>0.0</td>\n",
       "      <td>0.0</td>\n",
       "      <td>7.0</td>\n",
       "      <td>3.57</td>\n",
       "    </tr>\n",
       "    <tr>\n",
       "      <th>2</th>\n",
       "      <td>2950</td>\n",
       "      <td>2.0</td>\n",
       "      <td>2014.0</td>\n",
       "      <td>5</td>\n",
       "      <td>49.22</td>\n",
       "      <td>0</td>\n",
       "      <td>0.00</td>\n",
       "      <td>86</td>\n",
       "      <td>1000.91</td>\n",
       "      <td>194</td>\n",
       "      <td>1530.04</td>\n",
       "      <td>0.0</td>\n",
       "      <td>0.0</td>\n",
       "      <td>7.0</td>\n",
       "      <td>3.57</td>\n",
       "    </tr>\n",
       "    <tr>\n",
       "      <th>3</th>\n",
       "      <td>2950</td>\n",
       "      <td>2.0</td>\n",
       "      <td>2015.0</td>\n",
       "      <td>2</td>\n",
       "      <td>12.95</td>\n",
       "      <td>4</td>\n",
       "      <td>404.65</td>\n",
       "      <td>18</td>\n",
       "      <td>739.62</td>\n",
       "      <td>72</td>\n",
       "      <td>2347.85</td>\n",
       "      <td>0.0</td>\n",
       "      <td>0.0</td>\n",
       "      <td>7.0</td>\n",
       "      <td>3.57</td>\n",
       "    </tr>\n",
       "    <tr>\n",
       "      <th>4</th>\n",
       "      <td>2950</td>\n",
       "      <td>2.0</td>\n",
       "      <td>2016.0</td>\n",
       "      <td>1</td>\n",
       "      <td>175.50</td>\n",
       "      <td>1</td>\n",
       "      <td>11.77</td>\n",
       "      <td>8</td>\n",
       "      <td>90.19</td>\n",
       "      <td>82</td>\n",
       "      <td>1398.90</td>\n",
       "      <td>0.0</td>\n",
       "      <td>0.0</td>\n",
       "      <td>7.0</td>\n",
       "      <td>3.57</td>\n",
       "    </tr>\n",
       "  </tbody>\n",
       "</table>\n",
       "</div>"
      ],
      "text/plain": [
       "   nodeid  mon      yr  total_sales_volume  total_sales_price  \\\n",
       "0    2950  2.0  2012.0                  12             123.65   \n",
       "1    2950  2.0  2013.0                   9              99.31   \n",
       "2    2950  2.0  2014.0                   5              49.22   \n",
       "3    2950  2.0  2015.0                   2              12.95   \n",
       "4    2950  2.0  2016.0                   1             175.50   \n",
       "\n",
       "   pm_total_sales_volume  pm_total_sales_price  l3m_total_sales_volume  \\\n",
       "0                     22                229.93                     130   \n",
       "1                     10                119.88                      76   \n",
       "2                      0                  0.00                      86   \n",
       "3                      4                404.65                      18   \n",
       "4                      1                 11.77                       8   \n",
       "\n",
       "   l3m_total_sales_price  l12m_total_sales_volume  l12m_total_sales_price  \\\n",
       "0                1298.76                     1327                14450.32   \n",
       "1                 889.71                      275                 3054.69   \n",
       "2                1000.91                      194                 1530.04   \n",
       "3                 739.62                       72                 2347.85   \n",
       "4                  90.19                       82                 1398.90   \n",
       "\n",
       "   numreviews_by_period  avgrating_by_period  numreviews  avgrating  \n",
       "0                   0.0                  0.0         7.0       3.57  \n",
       "1                   0.0                  0.0         7.0       3.57  \n",
       "2                   0.0                  0.0         7.0       3.57  \n",
       "3                   0.0                  0.0         7.0       3.57  \n",
       "4                   0.0                  0.0         7.0       3.57  "
      ]
     },
     "execution_count": 101,
     "metadata": {},
     "output_type": "execute_result"
    }
   ],
   "source": [
    "df.head()"
   ]
  },
  {
   "cell_type": "markdown",
   "metadata": {},
   "source": [
    "## Sort the values by year then month so that we can use walk forward cross-validation"
   ]
  },
  {
   "cell_type": "code",
   "execution_count": 102,
   "metadata": {
    "collapsed": false
   },
   "outputs": [],
   "source": [
    "# Sort by date and time\n",
    "df = df.sort_values(['yr', 'mon'])"
   ]
  },
  {
   "cell_type": "markdown",
   "metadata": {},
   "source": [
    "## Don't trust data on the end years\n",
    "\n",
    "The data has come back without nulls. So 0 and null are mixed. We think the 0's in the last year of the data are actually null (unknown) so it would be wrong to predict them as 0."
   ]
  },
  {
   "cell_type": "code",
   "execution_count": 103,
   "metadata": {
    "collapsed": false
   },
   "outputs": [],
   "source": [
    "df = df[df['yr'] != df['yr'].max()]"
   ]
  },
  {
   "cell_type": "code",
   "execution_count": 137,
   "metadata": {
    "collapsed": false
   },
   "outputs": [
    {
     "data": {
      "image/png": "[encoded data removed]",
      "text/plain": [
       "<matplotlib.figure.Figure at 0x1c3c2869f98>"
      ]
     },
     "metadata": {},
     "output_type": "display_data"
    }
   ],
   "source": [
    "df['yr'].hist();"
   ]
  },
  {
   "cell_type": "code",
   "execution_count": 104,
   "metadata": {
    "collapsed": false
   },
   "outputs": [],
   "source": [
    "features = df.iloc[:, 5:]\n",
    "features['month'] = df.iloc[:,1]\n",
    "\n",
    "predictions = df.iloc[:,3]"
   ]
  },
  {
   "cell_type": "code",
   "execution_count": 105,
   "metadata": {
    "collapsed": false
   },
   "outputs": [],
   "source": [
    "y_log_tr = predictions.apply(lambda el: 0 if el == 0 else np.log10(el))"
   ]
  },
  {
   "cell_type": "code",
   "execution_count": 106,
   "metadata": {
    "collapsed": true
   },
   "outputs": [],
   "source": [
    "features_np = features.as_matrix()\n",
    "predictions_np =y_log_tr.as_matrix()"
   ]
  },
  {
   "cell_type": "code",
   "execution_count": 107,
   "metadata": {
    "collapsed": false
   },
   "outputs": [],
   "source": [
    "\n",
    "num_test = df.shape[0]//3\n",
    "X_train = features.iloc[:-num_test,:]\n",
    "y_train = y_log_tr.iloc[:-num_test]\n",
    "X_test = features.iloc[-num_test:,:]\n",
    "y_test = y_log_tr.iloc[-num_test:]\n"
   ]
  },
  {
   "cell_type": "markdown",
   "metadata": {},
   "source": [
    "# Fit the model to the training data\n",
    "\n",
    "Here we use Gradient Boosted Regression trees with a max tree depth of 4 and minimum samples in a leaf for a split of 2. The learning rate is 0.01. \n",
    "\n",
    "There is a parameter called 'init' which is supposed to pass in any previously-trained regression model. The idea is that every time we train the model, then we can use the previously trained model as the starting point for the new model. Therefore, the only data we need to access is the data that was not included in the previous models. This will greatly help in scalability of the system. NOTE: There seems to be some current bug in sklearn for this. I believe XGBoost has the same procedure for performing online, batch updates of the regression model."
   ]
  },
  {
   "cell_type": "code",
   "execution_count": 108,
   "metadata": {
    "collapsed": true
   },
   "outputs": [],
   "source": [
    "from sklearn import ensemble\n",
    "from sklearn.model_selection import GridSearchCV"
   ]
  },
  {
   "cell_type": "code",
   "execution_count": 109,
   "metadata": {
    "collapsed": false
   },
   "outputs": [],
   "source": [
    "# params = {'n_estimators': [500,1000,2000,3000,4000,5000], 'max_depth': [2,3,4,5,10], 'min_samples_split': [2],\n",
    "#            'max_features' : ['auto', 'sqrt', 'log2'],\n",
    "#           'learning_rate': [0.001, 0.002, 0.005, 0.01, 0.02, 0.05], 'loss': ['huber']}\n",
    "\n",
    "params = {'n_estimators': [500,3000,5000], 'max_depth': [2,4], 'min_samples_split': [2],\n",
    "           'max_features' : ['auto', 'sqrt', 'log2'],\n",
    "          'learning_rate': [0.001, 0.005, 0.01], 'loss': ['huber']}\n",
    "\n",
    "clf = ensemble.GradientBoostingRegressor()\n",
    "\n",
    "grid_search_GBR = GridSearchCV(clf, params)\n",
    "# if sc == 1:\n",
    "#     params = params1\n",
    "# elif sc == 2:\n",
    "#     params = params2"
   ]
  },
  {
   "cell_type": "code",
   "execution_count": 110,
   "metadata": {
    "collapsed": true
   },
   "outputs": [],
   "source": [
    "\n",
    "num_test = df.shape[0]//3\n",
    "X_train = features.iloc[:-num_test,:]\n",
    "y_train = y_log_tr.iloc[:-num_test]\n",
    "X_test = features.iloc[-num_test:,:]\n",
    "y_test = y_log_tr.iloc[-num_test:]\n"
   ]
  },
  {
   "cell_type": "code",
   "execution_count": 111,
   "metadata": {
    "collapsed": false
   },
   "outputs": [
    {
     "data": {
      "text/plain": [
       "GridSearchCV(cv=None, error_score='raise',\n",
       "       estimator=GradientBoostingRegressor(alpha=0.9, criterion='friedman_mse', init=None,\n",
       "             learning_rate=0.1, loss='ls', max_depth=3, max_features=None,\n",
       "             max_leaf_nodes=None, min_impurity_decrease=0.0,\n",
       "             min_impurity_split=None, min_samples_leaf=1,\n",
       "             min_samples_split=2, min_weight_fraction_leaf=0.0,\n",
       "             n_estimators=100, presort='auto', random_state=None,\n",
       "             subsample=1.0, verbose=0, warm_start=False),\n",
       "       fit_params=None, iid=True, n_jobs=1,\n",
       "       param_grid={'n_estimators': [500, 3000, 5000], 'max_depth': [2, 4], 'min_samples_split': [2], 'max_features': ['auto', 'sqrt', 'log2'], 'learning_rate': [0.001, 0.005, 0.01], 'loss': ['huber']},\n",
       "       pre_dispatch='2*n_jobs', refit=True, return_train_score=True,\n",
       "       scoring=None, verbose=0)"
      ]
     },
     "execution_count": 111,
     "metadata": {},
     "output_type": "execute_result"
    }
   ],
   "source": [
    "grid_search_GBR.fit(X_train, y_train)"
   ]
  },
  {
   "cell_type": "code",
   "execution_count": 113,
   "metadata": {
    "collapsed": false
   },
   "outputs": [
    {
     "data": {
      "text/plain": [
       "0.62189822853046794"
      ]
     },
     "execution_count": 113,
     "metadata": {},
     "output_type": "execute_result"
    }
   ],
   "source": [
    "grid_search_GBR.best_score_"
   ]
  },
  {
   "cell_type": "code",
   "execution_count": 114,
   "metadata": {
    "collapsed": false
   },
   "outputs": [
    {
     "data": {
      "text/plain": [
       "{'learning_rate': 0.005,\n",
       " 'loss': 'huber',\n",
       " 'max_depth': 2,\n",
       " 'max_features': 'log2',\n",
       " 'min_samples_split': 2,\n",
       " 'n_estimators': 3000}"
      ]
     },
     "execution_count": 114,
     "metadata": {},
     "output_type": "execute_result"
    }
   ],
   "source": [
    "grid_search_GBR.best_params_"
   ]
  },
  {
   "cell_type": "code",
   "execution_count": 130,
   "metadata": {
    "collapsed": false
   },
   "outputs": [],
   "source": [
    "params1 = {'learning_rate': 0.005, 'loss': 'huber',\n",
    " 'max_depth': 2, 'max_features': 'log2', 'min_samples_split': 2,\n",
    " 'n_estimators': 1500}\n",
    "\n",
    "params2 = {'learning_rate': 0.01, 'loss': 'huber', 'max_depth': 4, \n",
    "           'max_features': 'sqrt', 'min_samples_split': 2, 'n_estimators': 500}\n",
    "\n",
    "if (sc==1):\n",
    "        params = params1\n",
    "elif (sc==2):\n",
    "    params = params2\n",
    "clf = ensemble.GradientBoostingRegressor(**params)"
   ]
  },
  {
   "cell_type": "code",
   "execution_count": 142,
   "metadata": {
    "collapsed": true
   },
   "outputs": [],
   "source": [
    "from sklearn.model_selection import TimeSeriesSplit\n",
    "\n",
    "tscv = TimeSeriesSplit(n_splits=5)"
   ]
  },
  {
   "cell_type": "code",
   "execution_count": 141,
   "metadata": {
    "collapsed": false
   },
   "outputs": [
    {
     "name": "stdout",
     "output_type": "stream",
     "text": [
      "0.541744179324\n",
      "0.664213979355\n",
      "0.538761022643\n"
     ]
    }
   ],
   "source": [
    "\n",
    "for train_index, test_index in tscv.split(features_np):\n",
    "    \n",
    "    X_train, X_test = features_np[train_index], features_np[test_index]\n",
    "    y_train, y_test = predictions_np[train_index], predictions_np[test_index]\n",
    "    \n",
    "    clf.fit(X_train, y_train)\n",
    "    \n",
    "    print(clf.score(X_test, y_test))"
   ]
  },
  {
   "cell_type": "markdown",
   "metadata": {},
   "source": [
    "# Evaluate the model against the test data"
   ]
  },
  {
   "cell_type": "code",
   "execution_count": 147,
   "metadata": {
    "collapsed": true
   },
   "outputs": [],
   "source": [
    "from sklearn.metrics import mean_squared_error, mean_absolute_error, explained_variance_score"
   ]
  },
  {
   "cell_type": "code",
   "execution_count": 185,
   "metadata": {
    "collapsed": false
   },
   "outputs": [
    {
     "data": {
      "image/png": "[encoded data removed]",
      "text/plain": [
       "<matplotlib.figure.Figure at 0x1c3c27dbb70>"
      ]
     },
     "metadata": {},
     "output_type": "display_data"
    }
   ],
   "source": [
    "plt.figure(figsize=(15,10))\n",
    "plt.hist(10**y_test-10**y_hat, bins=100);\n",
    "plt.title('Model Performance', fontsize=18);\n",
    "plt.xlabel('Difference between predicted and actual books sold', fontsize=12);\n",
    "plt.ylabel('Frequency', fontsize=12);"
   ]
  },
  {
   "cell_type": "code",
   "execution_count": 159,
   "metadata": {
    "collapsed": false,
    "scrolled": false
   },
   "outputs": [
    {
     "name": "stdout",
     "output_type": "stream",
     "text": [
      "Explained variance = 0.572\n",
      "Mean squared error = 0.2906\n",
      "Mean absolute error = 2.9258\n",
      "r-squared = 0.539\n"
     ]
    },
    {
     "data": {
      "image/png": "[encoded data removed]",
      "text/plain": [
       "<matplotlib.figure.Figure at 0x1c3c2e278d0>"
      ]
     },
     "metadata": {},
     "output_type": "display_data"
    }
   ],
   "source": [
    "y_hat = clf.predict(X_test)\n",
    "\n",
    "mse = mean_squared_error(y_test, y_hat)\n",
    "mae = mean_absolute_error(y_test, y_hat)\n",
    "\n",
    "plt.figure(figsize=(12,8))\n",
    "plt.loglog(10**y_test, 10**y_hat, '.')\n",
    "plt.xlabel('Actual number of books sold in month', fontsize=14)\n",
    "plt.ylabel('Predicted number of books sold in month', fontsize=14)\n",
    "print('Explained variance = {:.3f}'.format(explained_variance_score(y_test, y_hat)))\n",
    "print('Mean squared error = {:.4f}'.format(mse))\n",
    "print('Mean absolute error = {:.4f}'.format(10**mae))\n",
    "print('r-squared = {:.3f}'.format(clf.score(X_test, y_test)))"
   ]
  },
  {
   "cell_type": "markdown",
   "metadata": {},
   "source": [
    "# Training and Testing Mean Squared Error as a function of Iteration"
   ]
  },
  {
   "cell_type": "code",
   "execution_count": 121,
   "metadata": {
    "collapsed": false
   },
   "outputs": [
    {
     "data": {
      "image/png": "[encoded data removed]",
      "text/plain": [
       "<matplotlib.figure.Figure at 0x1c3c28ada58>"
      ]
     },
     "metadata": {},
     "output_type": "display_data"
    }
   ],
   "source": [
    "test_score = np.zeros((params['n_estimators'],), dtype=np.float64)\n",
    "\n",
    "for i, y_pred in enumerate(clf.staged_predict(X_test)):\n",
    "    test_score[i] = clf.loss_(y_test, y_pred)\n",
    "\n",
    "plt.figure(figsize=(20, 6))\n",
    "plt.subplot(1, 2, 1)\n",
    "plt.title('Deviance')\n",
    "plt.plot(np.arange(params['n_estimators']) + 1, clf.train_score_, 'b-',\n",
    "         label='Training Set Deviance')\n",
    "plt.plot(np.arange(params['n_estimators']) + 1, test_score, 'r-',\n",
    "         label='Test Set Deviance')\n",
    "plt.legend(loc='upper right')\n",
    "plt.xlabel('Boosting Iterations')\n",
    "plt.ylabel('Deviance');"
   ]
  },
  {
   "cell_type": "markdown",
   "metadata": {},
   "source": [
    "# Relative Importance of Different Features\n",
    "\n",
    "This approach will allow us to weight the relative importance of different features to the regression.  This will help us to explain the model to the client in relatively simple terms. For example, we can say things like \"The important features to predicting the number of sales are price, recent sentiment about the book, and the last 4 months of sales.\""
   ]
  },
  {
   "cell_type": "code",
   "execution_count": 93,
   "metadata": {
    "collapsed": false
   },
   "outputs": [
    {
     "data": {
      "image/png": "[encoded data removed]",
      "text/plain": [
       "<matplotlib.figure.Figure at 0x1c3c2acdd68>"
      ]
     },
     "metadata": {},
     "output_type": "display_data"
    }
   ],
   "source": [
    "\n",
    "feature_importance = clf.feature_importances_\n",
    "# make importances relative to max importance\n",
    "feature_importance = 100.0 * (feature_importance / feature_importance.max())\n",
    "sorted_idx = np.argsort(feature_importance)\n",
    "pos = np.arange(sorted_idx.shape[0]) + .5\n",
    "\n",
    "plt.figure(figsize=(20,8))\n",
    "plt.subplot(1, 2, 2)\n",
    "plt.barh(pos, feature_importance[sorted_idx], align='center')\n",
    "\n",
    "labels = features.columns\n",
    "\n",
    "plt.yticks(pos, labels[sorted_idx], fontsize=12)\n",
    "plt.xlabel('Relative Importance', fontsize=12)\n",
    "plt.title('Importance to the Demand Prediction Model', fontsize=18)\n",
    "plt.show()"
   ]
  },
  {
   "cell_type": "code",
   "execution_count": 143,
   "metadata": {
    "collapsed": false
   },
   "outputs": [
    {
     "data": {
      "text/plain": [
       "(393, 11)"
      ]
     },
     "execution_count": 143,
     "metadata": {},
     "output_type": "execute_result"
    }
   ],
   "source": [
    "features.shape"
   ]
  },
  {
   "cell_type": "code",
   "execution_count": null,
   "metadata": {
    "collapsed": true
   },
   "outputs": [],
   "source": []
  }
 ],
 "metadata": {
  "kernelspec": {
   "display_name": "Python 3",
   "language": "python",
   "name": "python3"
  },
  "language_info": {
   "codemirror_mode": {
    "name": "ipython",
    "version": 3
   },
   "file_extension": ".py",
   "mimetype": "text/x-python",
   "name": "python",
   "nbconvert_exporter": "python",
   "pygments_lexer": "ipython3",
   "version": "3.6.0"
  }
 },
 "nbformat": 4,
 "nbformat_minor": 2
}
