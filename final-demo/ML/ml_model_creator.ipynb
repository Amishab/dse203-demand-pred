{
 "cells": [
  {
   "cell_type": "markdown",
   "metadata": {},
   "source": [
    "# Demand Prediction \n",
    "## DSE203\n",
    "## Machine Learning Team"
   ]
  },
  {
   "cell_type": "code",
   "execution_count": 1,
   "metadata": {
    "collapsed": true
   },
   "outputs": [],
   "source": [
    "import numpy as np\n",
    "import matplotlib.pyplot as plt\n",
    "import pandas as pd\n",
    "import seaborn as sns\n",
    "%matplotlib inline"
   ]
  },
  {
   "cell_type": "markdown",
   "metadata": {},
   "source": [
    "### We've previously shown 4 supercategories. We'll make a regression model for each category."
   ]
  },
  {
   "cell_type": "code",
   "execution_count": 2,
   "metadata": {
    "collapsed": true
   },
   "outputs": [],
   "source": [
    "sc = 4   # Supercategory to model\n",
    "\n",
    "# Here are the supercategories for the top 75 nodeIDs as determined by EDA\n",
    "# http://localhost:8888/notebooks/Documents/DSE203/EDA%20Supercategories.ipynb\n",
    "df_supercat = pd.read_csv('supercategories.csv') #mappings\n",
    "df_supercat = df_supercat.drop(df_supercat.columns[0], axis=1)\n",
    "df_supercat['jit_data/Supercategory'] += 1  # Add 1 so that supercategories are indexed from 1 not 0."
   ]
  },
  {
   "cell_type": "code",
   "execution_count": 3,
   "metadata": {},
   "outputs": [
    {
     "data": {
      "text/html": [
       "<div>\n",
       "<style>\n",
       "    .dataframe thead tr:only-child th {\n",
       "        text-align: right;\n",
       "    }\n",
       "\n",
       "    .dataframe thead th {\n",
       "        text-align: left;\n",
       "    }\n",
       "\n",
       "    .dataframe tbody tr th {\n",
       "        vertical-align: top;\n",
       "    }\n",
       "</style>\n",
       "<table border=\"1\" class=\"dataframe\">\n",
       "  <thead>\n",
       "    <tr style=\"text-align: right;\">\n",
       "      <th></th>\n",
       "      <th>NodeID</th>\n",
       "      <th>Supercategory</th>\n",
       "    </tr>\n",
       "  </thead>\n",
       "  <tbody>\n",
       "    <tr>\n",
       "      <th>25</th>\n",
       "      <td>3610</td>\n",
       "      <td>2</td>\n",
       "    </tr>\n",
       "    <tr>\n",
       "      <th>54</th>\n",
       "      <td>1002</td>\n",
       "      <td>3</td>\n",
       "    </tr>\n",
       "    <tr>\n",
       "      <th>15</th>\n",
       "      <td>2672</td>\n",
       "      <td>2</td>\n",
       "    </tr>\n",
       "    <tr>\n",
       "      <th>51</th>\n",
       "      <td>8951173011</td>\n",
       "      <td>2</td>\n",
       "    </tr>\n",
       "    <tr>\n",
       "      <th>50</th>\n",
       "      <td>8951165011</td>\n",
       "      <td>2</td>\n",
       "    </tr>\n",
       "    <tr>\n",
       "      <th>40</th>\n",
       "      <td>16244061</td>\n",
       "      <td>2</td>\n",
       "    </tr>\n",
       "    <tr>\n",
       "      <th>33</th>\n",
       "      <td>13682</td>\n",
       "      <td>2</td>\n",
       "    </tr>\n",
       "    <tr>\n",
       "      <th>56</th>\n",
       "      <td>2963</td>\n",
       "      <td>3</td>\n",
       "    </tr>\n",
       "    <tr>\n",
       "      <th>66</th>\n",
       "      <td>9432902011</td>\n",
       "      <td>3</td>\n",
       "    </tr>\n",
       "    <tr>\n",
       "      <th>59</th>\n",
       "      <td>3527</td>\n",
       "      <td>3</td>\n",
       "    </tr>\n",
       "  </tbody>\n",
       "</table>\n",
       "</div>"
      ],
      "text/plain": [
       "        NodeID  Supercategory\n",
       "25        3610              2\n",
       "54        1002              3\n",
       "15        2672              2\n",
       "51  8951173011              2\n",
       "50  8951165011              2\n",
       "40    16244061              2\n",
       "33       13682              2\n",
       "56        2963              3\n",
       "66  9432902011              3\n",
       "59        3527              3"
      ]
     },
     "execution_count": 3,
     "metadata": {},
     "output_type": "execute_result"
    }
   ],
   "source": [
    "df_supercat.sample(10)"
   ]
  },
  {
   "cell_type": "code",
   "execution_count": 4,
   "metadata": {},
   "outputs": [
    {
     "data": {
      "image/png": "[encoded data removed]",
      "text/plain": [
       "<matplotlib.figure.Figure at 0x1ce3a6ce128>"
      ]
     },
     "metadata": {},
     "output_type": "display_data"
    }
   ],
   "source": [
    "plt.figure(figsize=(15,10));\n",
    "df_supercat['Supercategory'].hist(bins=15);\n",
    "plt.xticks([1,2,3,4], [1,2,3,4], fontsize=14);\n",
    "plt.yticks(fontsize=14);\n",
    "plt.xlabel('Supercategories', fontsize=18);\n",
    "plt.ylabel('Count', fontsize=18);\n",
    "plt.title('Number of nodeIDs per supercategory - Top 75 nodeIDs', fontsize=28);"
   ]
  },
  {
   "cell_type": "markdown",
   "metadata": {},
   "source": [
    "## Load the data from the data sources\n",
    "\n",
    "We've taken the top 75 categories by total sales. The query team has pulled out the aggregated data based on this datalog query. We've saved it to CSV files just to work offline."
   ]
  },
  {
   "cell_type": "raw",
   "metadata": {},
   "source": [
    "query = \"Ans(nodeId, yr, mn, sales, \" \\\n",
    "        \" vol, lm_sale, lm_vol, \" \\\n",
    "        \" l3m_sale, l3m_vol, \" \\\n",
    "        \" l12m_sale, l12m_vol, \" \\\n",
    "        \" lm_avg_rating, lm_avg_sent) \" \\\n",
    "        \" :- mlfeatures( nodeId, yr, mn, \" \\\n",
    "        \" sales, vol, \" \\\n",
    "        \" lm_sale, lm_vol, \" \\\n",
    "        \" l3m_sale, l3m_vol, \" \\\n",
    "        \" l12m_sale, l12m_vol, \" \\\n",
    "        \" lm_avg_rating, lm_avg_sent) , nodeId in (121, 15, 45)\""
   ]
  },
  {
   "cell_type": "raw",
   "metadata": {},
   "source": [
    "df = Mediator_query(query)\n",
    "\n",
    "if df == Null : print \"error\""
   ]
  },
  {
   "cell_type": "code",
   "execution_count": 5,
   "metadata": {
    "collapsed": true
   },
   "outputs": [],
   "source": [
    "df = pd.read_csv('ML_feat_cat{}.csv'.format(sc))\n",
    "df = df.drop(df.columns[0], axis=1)"
   ]
  },
  {
   "cell_type": "code",
   "execution_count": 6,
   "metadata": {},
   "outputs": [
    {
     "data": {
      "text/html": [
       "<div>\n",
       "<style>\n",
       "    .dataframe thead tr:only-child th {\n",
       "        text-align: right;\n",
       "    }\n",
       "\n",
       "    .dataframe thead th {\n",
       "        text-align: left;\n",
       "    }\n",
       "\n",
       "    .dataframe tbody tr th {\n",
       "        vertical-align: top;\n",
       "    }\n",
       "</style>\n",
       "<table border=\"1\" class=\"dataframe\">\n",
       "  <thead>\n",
       "    <tr style=\"text-align: right;\">\n",
       "      <th></th>\n",
       "      <th>nodeid</th>\n",
       "      <th>yr</th>\n",
       "      <th>mon</th>\n",
       "      <th>total_sales_volume</th>\n",
       "      <th>total_sales_price</th>\n",
       "      <th>pm_total_sales_volume</th>\n",
       "      <th>pm_total_sales_price</th>\n",
       "      <th>l3m_total_sales_volume</th>\n",
       "      <th>l3m_total_sales_price</th>\n",
       "      <th>l12m_total_sales_volume</th>\n",
       "      <th>l12m_total_sales_price</th>\n",
       "      <th>pm_numreviews</th>\n",
       "      <th>pm_avgrating</th>\n",
       "      <th>l3m_numreviews</th>\n",
       "      <th>l3m_avgrating</th>\n",
       "      <th>l12m_numreviews</th>\n",
       "      <th>l12m_avgrating</th>\n",
       "      <th>numreviews</th>\n",
       "      <th>avgrating</th>\n",
       "    </tr>\n",
       "  </thead>\n",
       "  <tbody>\n",
       "    <tr>\n",
       "      <th>28</th>\n",
       "      <td>2945</td>\n",
       "      <td>2012.0</td>\n",
       "      <td>2.0</td>\n",
       "      <td>1</td>\n",
       "      <td>12.95</td>\n",
       "      <td>4</td>\n",
       "      <td>48.94</td>\n",
       "      <td>23</td>\n",
       "      <td>161.33</td>\n",
       "      <td>38</td>\n",
       "      <td>319.05</td>\n",
       "      <td>0.0</td>\n",
       "      <td>0.0</td>\n",
       "      <td>0.0</td>\n",
       "      <td>0.0</td>\n",
       "      <td>0.0</td>\n",
       "      <td>0.00</td>\n",
       "      <td>2.0</td>\n",
       "      <td>5.0</td>\n",
       "    </tr>\n",
       "    <tr>\n",
       "      <th>4</th>\n",
       "      <td>2945</td>\n",
       "      <td>2010.0</td>\n",
       "      <td>2.0</td>\n",
       "      <td>72</td>\n",
       "      <td>200.00</td>\n",
       "      <td>52</td>\n",
       "      <td>460.00</td>\n",
       "      <td>708</td>\n",
       "      <td>5970.00</td>\n",
       "      <td>2588</td>\n",
       "      <td>24730.00</td>\n",
       "      <td>0.0</td>\n",
       "      <td>0.0</td>\n",
       "      <td>0.0</td>\n",
       "      <td>0.0</td>\n",
       "      <td>0.0</td>\n",
       "      <td>0.00</td>\n",
       "      <td>2.0</td>\n",
       "      <td>5.0</td>\n",
       "    </tr>\n",
       "    <tr>\n",
       "      <th>131</th>\n",
       "      <td>8883864011</td>\n",
       "      <td>2014.0</td>\n",
       "      <td>4.0</td>\n",
       "      <td>22</td>\n",
       "      <td>559.60</td>\n",
       "      <td>28</td>\n",
       "      <td>650.00</td>\n",
       "      <td>66</td>\n",
       "      <td>1440.40</td>\n",
       "      <td>1023</td>\n",
       "      <td>25367.80</td>\n",
       "      <td>0.0</td>\n",
       "      <td>0.0</td>\n",
       "      <td>1.0</td>\n",
       "      <td>5.0</td>\n",
       "      <td>6.0</td>\n",
       "      <td>4.17</td>\n",
       "      <td>12.0</td>\n",
       "      <td>4.5</td>\n",
       "    </tr>\n",
       "    <tr>\n",
       "      <th>120</th>\n",
       "      <td>282840</td>\n",
       "      <td>2016.0</td>\n",
       "      <td>8.0</td>\n",
       "      <td>0</td>\n",
       "      <td>0.00</td>\n",
       "      <td>3</td>\n",
       "      <td>20.97</td>\n",
       "      <td>13</td>\n",
       "      <td>88.80</td>\n",
       "      <td>1200</td>\n",
       "      <td>6933.83</td>\n",
       "      <td>0.0</td>\n",
       "      <td>0.0</td>\n",
       "      <td>0.0</td>\n",
       "      <td>0.0</td>\n",
       "      <td>0.0</td>\n",
       "      <td>0.00</td>\n",
       "      <td>4.0</td>\n",
       "      <td>4.0</td>\n",
       "    </tr>\n",
       "    <tr>\n",
       "      <th>200</th>\n",
       "      <td>8944264011</td>\n",
       "      <td>2012.0</td>\n",
       "      <td>8.0</td>\n",
       "      <td>265</td>\n",
       "      <td>5473.00</td>\n",
       "      <td>254</td>\n",
       "      <td>4436.24</td>\n",
       "      <td>645</td>\n",
       "      <td>12267.16</td>\n",
       "      <td>2959</td>\n",
       "      <td>59198.13</td>\n",
       "      <td>0.0</td>\n",
       "      <td>0.0</td>\n",
       "      <td>0.0</td>\n",
       "      <td>0.0</td>\n",
       "      <td>0.0</td>\n",
       "      <td>0.00</td>\n",
       "      <td>2.0</td>\n",
       "      <td>4.5</td>\n",
       "    </tr>\n",
       "    <tr>\n",
       "      <th>57</th>\n",
       "      <td>2945</td>\n",
       "      <td>2015.0</td>\n",
       "      <td>6.0</td>\n",
       "      <td>2</td>\n",
       "      <td>386.30</td>\n",
       "      <td>1</td>\n",
       "      <td>0.00</td>\n",
       "      <td>3</td>\n",
       "      <td>675.00</td>\n",
       "      <td>18</td>\n",
       "      <td>725.49</td>\n",
       "      <td>0.0</td>\n",
       "      <td>0.0</td>\n",
       "      <td>0.0</td>\n",
       "      <td>0.0</td>\n",
       "      <td>0.0</td>\n",
       "      <td>0.00</td>\n",
       "      <td>2.0</td>\n",
       "      <td>5.0</td>\n",
       "    </tr>\n",
       "    <tr>\n",
       "      <th>2</th>\n",
       "      <td>2945</td>\n",
       "      <td>2009.0</td>\n",
       "      <td>12.0</td>\n",
       "      <td>280</td>\n",
       "      <td>2055.00</td>\n",
       "      <td>376</td>\n",
       "      <td>3455.00</td>\n",
       "      <td>2256</td>\n",
       "      <td>22215.00</td>\n",
       "      <td>2256</td>\n",
       "      <td>22215.00</td>\n",
       "      <td>0.0</td>\n",
       "      <td>0.0</td>\n",
       "      <td>0.0</td>\n",
       "      <td>0.0</td>\n",
       "      <td>0.0</td>\n",
       "      <td>0.00</td>\n",
       "      <td>2.0</td>\n",
       "      <td>5.0</td>\n",
       "    </tr>\n",
       "    <tr>\n",
       "      <th>179</th>\n",
       "      <td>8944264011</td>\n",
       "      <td>2010.0</td>\n",
       "      <td>11.0</td>\n",
       "      <td>670</td>\n",
       "      <td>13855.46</td>\n",
       "      <td>932</td>\n",
       "      <td>19746.62</td>\n",
       "      <td>2740</td>\n",
       "      <td>60389.47</td>\n",
       "      <td>2740</td>\n",
       "      <td>60389.47</td>\n",
       "      <td>0.0</td>\n",
       "      <td>0.0</td>\n",
       "      <td>0.0</td>\n",
       "      <td>0.0</td>\n",
       "      <td>0.0</td>\n",
       "      <td>0.00</td>\n",
       "      <td>2.0</td>\n",
       "      <td>4.5</td>\n",
       "    </tr>\n",
       "    <tr>\n",
       "      <th>94</th>\n",
       "      <td>4296</td>\n",
       "      <td>2015.0</td>\n",
       "      <td>9.0</td>\n",
       "      <td>3</td>\n",
       "      <td>98.85</td>\n",
       "      <td>1</td>\n",
       "      <td>28.95</td>\n",
       "      <td>21</td>\n",
       "      <td>654.33</td>\n",
       "      <td>1763</td>\n",
       "      <td>16348.65</td>\n",
       "      <td>0.0</td>\n",
       "      <td>0.0</td>\n",
       "      <td>0.0</td>\n",
       "      <td>0.0</td>\n",
       "      <td>0.0</td>\n",
       "      <td>0.00</td>\n",
       "      <td>2.0</td>\n",
       "      <td>5.0</td>\n",
       "    </tr>\n",
       "    <tr>\n",
       "      <th>101</th>\n",
       "      <td>4296</td>\n",
       "      <td>2016.0</td>\n",
       "      <td>4.0</td>\n",
       "      <td>1</td>\n",
       "      <td>32.95</td>\n",
       "      <td>2</td>\n",
       "      <td>65.90</td>\n",
       "      <td>280</td>\n",
       "      <td>161.44</td>\n",
       "      <td>465</td>\n",
       "      <td>2615.97</td>\n",
       "      <td>0.0</td>\n",
       "      <td>0.0</td>\n",
       "      <td>0.0</td>\n",
       "      <td>0.0</td>\n",
       "      <td>0.0</td>\n",
       "      <td>0.00</td>\n",
       "      <td>2.0</td>\n",
       "      <td>5.0</td>\n",
       "    </tr>\n",
       "  </tbody>\n",
       "</table>\n",
       "</div>"
      ],
      "text/plain": [
       "         nodeid      yr   mon  total_sales_volume  total_sales_price  \\\n",
       "28         2945  2012.0   2.0                   1              12.95   \n",
       "4          2945  2010.0   2.0                  72             200.00   \n",
       "131  8883864011  2014.0   4.0                  22             559.60   \n",
       "120      282840  2016.0   8.0                   0               0.00   \n",
       "200  8944264011  2012.0   8.0                 265            5473.00   \n",
       "57         2945  2015.0   6.0                   2             386.30   \n",
       "2          2945  2009.0  12.0                 280            2055.00   \n",
       "179  8944264011  2010.0  11.0                 670           13855.46   \n",
       "94         4296  2015.0   9.0                   3              98.85   \n",
       "101        4296  2016.0   4.0                   1              32.95   \n",
       "\n",
       "     pm_total_sales_volume  pm_total_sales_price  l3m_total_sales_volume  \\\n",
       "28                       4                 48.94                      23   \n",
       "4                       52                460.00                     708   \n",
       "131                     28                650.00                      66   \n",
       "120                      3                 20.97                      13   \n",
       "200                    254               4436.24                     645   \n",
       "57                       1                  0.00                       3   \n",
       "2                      376               3455.00                    2256   \n",
       "179                    932              19746.62                    2740   \n",
       "94                       1                 28.95                      21   \n",
       "101                      2                 65.90                     280   \n",
       "\n",
       "     l3m_total_sales_price  l12m_total_sales_volume  l12m_total_sales_price  \\\n",
       "28                  161.33                       38                  319.05   \n",
       "4                  5970.00                     2588                24730.00   \n",
       "131                1440.40                     1023                25367.80   \n",
       "120                  88.80                     1200                 6933.83   \n",
       "200               12267.16                     2959                59198.13   \n",
       "57                  675.00                       18                  725.49   \n",
       "2                 22215.00                     2256                22215.00   \n",
       "179               60389.47                     2740                60389.47   \n",
       "94                  654.33                     1763                16348.65   \n",
       "101                 161.44                      465                 2615.97   \n",
       "\n",
       "     pm_numreviews  pm_avgrating  l3m_numreviews  l3m_avgrating  \\\n",
       "28             0.0           0.0             0.0            0.0   \n",
       "4              0.0           0.0             0.0            0.0   \n",
       "131            0.0           0.0             1.0            5.0   \n",
       "120            0.0           0.0             0.0            0.0   \n",
       "200            0.0           0.0             0.0            0.0   \n",
       "57             0.0           0.0             0.0            0.0   \n",
       "2              0.0           0.0             0.0            0.0   \n",
       "179            0.0           0.0             0.0            0.0   \n",
       "94             0.0           0.0             0.0            0.0   \n",
       "101            0.0           0.0             0.0            0.0   \n",
       "\n",
       "     l12m_numreviews  l12m_avgrating  numreviews  avgrating  \n",
       "28               0.0            0.00         2.0        5.0  \n",
       "4                0.0            0.00         2.0        5.0  \n",
       "131              6.0            4.17        12.0        4.5  \n",
       "120              0.0            0.00         4.0        4.0  \n",
       "200              0.0            0.00         2.0        4.5  \n",
       "57               0.0            0.00         2.0        5.0  \n",
       "2                0.0            0.00         2.0        5.0  \n",
       "179              0.0            0.00         2.0        4.5  \n",
       "94               0.0            0.00         2.0        5.0  \n",
       "101              0.0            0.00         2.0        5.0  "
      ]
     },
     "execution_count": 6,
     "metadata": {},
     "output_type": "execute_result"
    }
   ],
   "source": [
    "df.sample(10)"
   ]
  },
  {
   "cell_type": "markdown",
   "metadata": {},
   "source": [
    "## Sort the values by year then month so that we can use walk forward cross-validation"
   ]
  },
  {
   "cell_type": "code",
   "execution_count": 7,
   "metadata": {
    "collapsed": true
   },
   "outputs": [],
   "source": [
    "# Sort by date and time\n",
    "df = df.sort_values(['yr', 'mon'])"
   ]
  },
  {
   "cell_type": "markdown",
   "metadata": {},
   "source": [
    "## Don't trust data on the end years\n",
    "\n",
    "The data has come back without nulls. So 0 and null are mixed. We think the 0's in the last year of the data are actually null (unknown) so it would be wrong to predict them as 0."
   ]
  },
  {
   "cell_type": "code",
   "execution_count": 8,
   "metadata": {
    "collapsed": true
   },
   "outputs": [],
   "source": [
    "df = df[df['yr'] != df['yr'].max()]"
   ]
  },
  {
   "cell_type": "code",
   "execution_count": 9,
   "metadata": {},
   "outputs": [
    {
     "data": {
      "image/png": "[encoded data removed]",
      "text/plain": [
       "<matplotlib.figure.Figure at 0x1ce3aea8eb8>"
      ]
     },
     "metadata": {},
     "output_type": "display_data"
    }
   ],
   "source": [
    "df['yr'].hist();"
   ]
  },
  {
   "cell_type": "code",
   "execution_count": 10,
   "metadata": {
    "collapsed": true
   },
   "outputs": [],
   "source": [
    "features = df.iloc[:, 5:]\n",
    "features['month'] = df.iloc[:,1]\n",
    "\n",
    "predictions = df.iloc[:,3]"
   ]
  },
  {
   "cell_type": "code",
   "execution_count": 11,
   "metadata": {
    "collapsed": true
   },
   "outputs": [],
   "source": [
    "y_log_tr = predictions.apply(lambda el: 0 if el == 0 else np.log10(el))"
   ]
  },
  {
   "cell_type": "code",
   "execution_count": 12,
   "metadata": {
    "collapsed": true
   },
   "outputs": [],
   "source": [
    "features_np = features.as_matrix()\n",
    "predictions_np =y_log_tr.as_matrix()"
   ]
  },
  {
   "cell_type": "code",
   "execution_count": 13,
   "metadata": {
    "collapsed": true
   },
   "outputs": [],
   "source": [
    "#training based on log transform from previous cells\n",
    "#log transform fits the data into a more normalized guassian distribution \n",
    "\n",
    "num_test = df.shape[0]//3\n",
    "X_train = features.iloc[:-num_test,:]\n",
    "y_train = y_log_tr.iloc[:-num_test]\n",
    "X_test = features.iloc[-num_test:,:]\n",
    "y_test = y_log_tr.iloc[-num_test:]\n"
   ]
  },
  {
   "cell_type": "markdown",
   "metadata": {},
   "source": [
    "# Fit the model to the training data\n",
    "\n",
    "Here we use Gradient Boosted Regression trees. In the initial pass we used GridSearchCV to perform a 3-fold cross-validation grid search of the hyperparameters (e.g. number of leaves, learning rate, number of features). Once we found the best hyperparameters for each model, we will stick with them in future training.\n",
    "\n",
    "There is a parameter called 'init' which is supposed to pass in any previously-trained regression model. The idea is that every time we train the model, then we can use the previously trained model as the starting point for the new model. Therefore, the only data we need to access is the data that was not included in the previous models. This will greatly help in scalability of the system. NOTE: There seems to be some current bug in sklearn for this. I believe XGBoost has the same procedure for performing online, batch updates of the regression model."
   ]
  },
  {
   "cell_type": "code",
   "execution_count": 14,
   "metadata": {
    "collapsed": true
   },
   "outputs": [],
   "source": [
    "from sklearn import ensemble\n",
    "from sklearn.model_selection import GridSearchCV"
   ]
  },
  {
   "cell_type": "raw",
   "metadata": {},
   "source": [
    "# see init bug ref above in markdown cell\n",
    "# These are the hyperparameters for our Grid Search\n",
    "\n",
    "params = {'n_estimators': [500,3000,5000], 'max_depth': [2,4], 'min_samples_split': [2],\n",
    "           'max_features' : ['auto', 'sqrt', 'log2'],\n",
    "          'learning_rate': [0.001, 0.005, 0.01], 'loss': ['huber']}\n",
    "\n",
    "clf = ensemble.GradientBoostingRegressor()\n",
    "\n",
    "grid_search_GBR = GridSearchCV(clf, params)\n"
   ]
  },
  {
   "cell_type": "markdown",
   "metadata": {},
   "source": [
    "## Train/Test Split\n",
    "\n",
    "The GridSearchCV will do the train/validation split for us. Let's set aside the last 1/3 of the data (by time) as the test data."
   ]
  },
  {
   "cell_type": "code",
   "execution_count": 15,
   "metadata": {
    "collapsed": true
   },
   "outputs": [],
   "source": [
    "\n",
    "num_test = df.shape[0]//3\n",
    "X_train = features.iloc[:-num_test,:]\n",
    "y_train = y_log_tr.iloc[:-num_test]\n",
    "X_test = features.iloc[-num_test:,:]\n",
    "y_test = y_log_tr.iloc[-num_test:]\n"
   ]
  },
  {
   "cell_type": "markdown",
   "metadata": {},
   "source": [
    "## Perform the grid search"
   ]
  },
  {
   "cell_type": "raw",
   "metadata": {},
   "source": [
    "grid_search_GBR.fit(X_train, y_train)"
   ]
  },
  {
   "cell_type": "raw",
   "metadata": {},
   "source": [
    "grid_search_GBR.best_score_"
   ]
  },
  {
   "cell_type": "markdown",
   "metadata": {},
   "source": [
    "## Report the best hyperparameters for this model."
   ]
  },
  {
   "cell_type": "raw",
   "metadata": {},
   "source": [
    "grid_search_GBR.best_params_"
   ]
  },
  {
   "cell_type": "markdown",
   "metadata": {},
   "source": [
    "## Best hyperparameters per supercategory\n",
    "\n",
    "Most of the models use the same hyperparameters. Now that we have found them we can comment out the GridSearch code and just specify the parameters manually."
   ]
  },
  {
   "cell_type": "code",
   "execution_count": 16,
   "metadata": {
    "collapsed": true
   },
   "outputs": [],
   "source": [
    "#note optimal params are sim among 4 super categories\n",
    "params1 = {'learning_rate': 0.005, 'loss': 'huber',\n",
    "           'max_depth': 2, 'max_features': 'log2', 'min_samples_split': 2,\n",
    "           'n_estimators': 1500}\n",
    "\n",
    "params2 = {'learning_rate': 0.01, 'loss': 'huber', 'max_depth': 4, \n",
    "           'max_features': 'sqrt', 'min_samples_split': 2, 'n_estimators': 500}\n",
    "\n",
    "params3 = {'learning_rate': 0.01, 'loss': 'huber',\n",
    "           'max_depth': 2, 'max_features': 'log2', \n",
    "           'min_samples_split': 2, 'n_estimators': 500}\n",
    "\n",
    "params4 = {'learning_rate': 0.005, 'loss': 'huber',\n",
    "           'max_depth': 2, 'max_features': 'log2', \n",
    "           'min_samples_split': 2, 'n_estimators': 500}\n",
    "\n",
    "# Load the best hyperparameters for this supercategory\n",
    "if (sc==1):\n",
    "        params = params1\n",
    "elif (sc==2):\n",
    "    params = params2\n",
    "elif (sc==3):\n",
    "    params = params3\n",
    "elif (sc==4):\n",
    "    params = params4\n",
    "    \n",
    "clf = ensemble.GradientBoostingRegressor(**params)"
   ]
  },
  {
   "cell_type": "markdown",
   "metadata": {},
   "source": [
    "## Walk forward time series split\n",
    "\n",
    "This does the walk forward method to determine how well the model does as a function of time. We have chosen 5 sequential splits of the time series (based on the 5 years of data)."
   ]
  },
  {
   "cell_type": "code",
   "execution_count": 17,
   "metadata": {
    "collapsed": true
   },
   "outputs": [],
   "source": [
    "from sklearn.model_selection import TimeSeriesSplit\n",
    "\n",
    "tscv = TimeSeriesSplit(n_splits=5)"
   ]
  },
  {
   "cell_type": "code",
   "execution_count": 18,
   "metadata": {},
   "outputs": [
    {
     "name": "stdout",
     "output_type": "stream",
     "text": [
      "0.594924394729\n",
      "0.252887755832\n",
      "0.523186202028\n",
      "0.357510955252\n",
      "0.588955133576\n"
     ]
    }
   ],
   "source": [
    "\n",
    "for train_index, test_index in tscv.split(features_np):\n",
    "    \n",
    "    X_train, X_test = features_np[train_index], features_np[test_index]\n",
    "    y_train, y_test = predictions_np[train_index], predictions_np[test_index]\n",
    "    \n",
    "    clf.fit(X_train, y_train)\n",
    "    \n",
    "    print(clf.score(X_test, y_test))"
   ]
  },
  {
   "cell_type": "markdown",
   "metadata": {},
   "source": [
    "## Save the model to pickle file"
   ]
  },
  {
   "cell_type": "code",
   "execution_count": 19,
   "metadata": {
    "collapsed": true
   },
   "outputs": [],
   "source": [
    "import pickle\n",
    "\n",
    "# Save to file in the current working directory\n",
    "pkl_filename = \"pickle_model{}.pkl\".format(sc) \n",
    "with open(pkl_filename, 'wb') as file:  \n",
    "    pickle.dump(clf, file)"
   ]
  },
  {
   "cell_type": "markdown",
   "metadata": {},
   "source": [
    "# Evaluate the model against the test data"
   ]
  },
  {
   "cell_type": "code",
   "execution_count": 20,
   "metadata": {
    "collapsed": true
   },
   "outputs": [],
   "source": [
    "from sklearn.metrics import mean_squared_error, mean_absolute_error, explained_variance_score"
   ]
  },
  {
   "cell_type": "code",
   "execution_count": 1,
   "metadata": {},
   "outputs": [
    {
     "ename": "NameError",
     "evalue": "name 'clf' is not defined",
     "output_type": "error",
     "traceback": [
      "\u001b[0;31m---------------------------------------------------------------------------\u001b[0m",
      "\u001b[0;31mNameError\u001b[0m                                 Traceback (most recent call last)",
      "\u001b[0;32m<ipython-input-1-58fcd2fe4bdc>\u001b[0m in \u001b[0;36m<module>\u001b[0;34m()\u001b[0m\n\u001b[0;32m----> 1\u001b[0;31m \u001b[0my_hat\u001b[0m \u001b[0;34m=\u001b[0m \u001b[0mclf\u001b[0m\u001b[0;34m.\u001b[0m\u001b[0mpredict\u001b[0m\u001b[0;34m(\u001b[0m\u001b[0mX_test\u001b[0m\u001b[0;34m)\u001b[0m\u001b[0;34m\u001b[0m\u001b[0m\n\u001b[0m\u001b[1;32m      2\u001b[0m \u001b[0;34m\u001b[0m\u001b[0m\n\u001b[1;32m      3\u001b[0m \u001b[0max\u001b[0m \u001b[0;34m=\u001b[0m \u001b[0mplt\u001b[0m\u001b[0;34m.\u001b[0m\u001b[0mfigure\u001b[0m\u001b[0;34m(\u001b[0m\u001b[0mfigsize\u001b[0m\u001b[0;34m=\u001b[0m\u001b[0;34m(\u001b[0m\u001b[0;36m15\u001b[0m\u001b[0;34m,\u001b[0m\u001b[0;36m10\u001b[0m\u001b[0;34m)\u001b[0m\u001b[0;34m)\u001b[0m\u001b[0;34m\u001b[0m\u001b[0m\n\u001b[1;32m      4\u001b[0m \u001b[0mplt\u001b[0m\u001b[0;34m.\u001b[0m\u001b[0mhist\u001b[0m\u001b[0;34m(\u001b[0m\u001b[0;36m10\u001b[0m\u001b[0;34m**\u001b[0m\u001b[0my_test\u001b[0m\u001b[0;34m-\u001b[0m\u001b[0;36m10\u001b[0m\u001b[0;34m**\u001b[0m\u001b[0my_hat\u001b[0m\u001b[0;34m,\u001b[0m \u001b[0mbins\u001b[0m\u001b[0;34m=\u001b[0m\u001b[0;36m100\u001b[0m\u001b[0;34m)\u001b[0m\u001b[0;34m;\u001b[0m\u001b[0;34m\u001b[0m\u001b[0m\n\u001b[1;32m      5\u001b[0m \u001b[0mplt\u001b[0m\u001b[0;34m.\u001b[0m\u001b[0mtitle\u001b[0m\u001b[0;34m(\u001b[0m\u001b[0;34m'Model Performance'\u001b[0m\u001b[0;34m,\u001b[0m \u001b[0mfontsize\u001b[0m\u001b[0;34m=\u001b[0m\u001b[0;36m24\u001b[0m\u001b[0;34m)\u001b[0m\u001b[0;34m;\u001b[0m\u001b[0;34m\u001b[0m\u001b[0m\n",
      "\u001b[0;31mNameError\u001b[0m: name 'clf' is not defined"
     ]
    }
   ],
   "source": [
    "y_hat = clf.predict(X_test)\n",
    "\n",
    "ax = plt.figure(figsize=(15,10))\n",
    "plt.hist(10**y_test-10**y_hat, bins=100);\n",
    "plt.title('Model Performance', fontsize=24);\n",
    "plt.xticks(fontsize=14);\n",
    "plt.yticks(fontsize=14);\n",
    "plt.xlabel('Difference between actual and predicted books sold', fontsize=14);\n",
    "plt.ylabel('Frequency', fontsize=14);\n",
    "plt.annotate('Median: {:.1f} books off on the prediction.'.format(np.median(10**y_test-10**y_hat)), \n",
    "             xy=(0.5, 0.75), xycoords='axes fraction', fontsize=18, color='red')\n",
    "plt.annotate(r'Predicted less books than needed $\\longrightarrow$', \n",
    "             xy=(0.5, 0.5), xycoords='axes fraction', fontsize=18, color='blue')\n",
    "print('Median: {:.1f} books off on the prediction.'.format(np.median(10**y_test-10**y_hat)))\n",
    "print('Mean: {:.1f} books off on the prediction.'.format(np.mean(10**y_test-10**y_hat)))\n",
    "print('Standard deviation of {:.2f} books'.format(np.std(10**y_test-10**y_hat)))"
   ]
  },
  {
   "cell_type": "code",
   "execution_count": 22,
   "metadata": {
    "scrolled": false
   },
   "outputs": [
    {
     "name": "stdout",
     "output_type": "stream",
     "text": [
      "Explained variance = 0.595\n",
      "Mean squared error = 0.3196\n",
      "Mean absolute error = 2.7095\n",
      "r-squared = 0.589\n"
     ]
    },
    {
     "data": {
      "image/png": "[encoded data removed]",
      "text/plain": [
       "<matplotlib.figure.Figure at 0x1ce3c309278>"
      ]
     },
     "metadata": {},
     "output_type": "display_data"
    }
   ],
   "source": [
    "y_hat = clf.predict(X_test)\n",
    "\n",
    "mse = mean_squared_error(y_test, y_hat)\n",
    "mae = mean_absolute_error(y_test, y_hat)\n",
    "\n",
    "plt.figure(figsize=(12,8))\n",
    "plt.loglog(10**y_test, 10**y_hat, '.')\n",
    "plt.xlabel('Actual number of books sold in month', fontsize=14)\n",
    "plt.ylabel('Predicted number of books sold in month', fontsize=14)\n",
    "print('Explained variance = {:.3f}'.format(explained_variance_score(y_test, y_hat)))\n",
    "print('Mean squared error = {:.4f}'.format(mse))\n",
    "print('Mean absolute error = {:.4f}'.format(10**mae))\n",
    "print('r-squared = {:.3f}'.format(clf.score(X_test, y_test)))"
   ]
  },
  {
   "cell_type": "markdown",
   "metadata": {},
   "source": [
    "# Training and Testing Mean Squared Error as a function of Iteration"
   ]
  },
  {
   "cell_type": "code",
   "execution_count": 23,
   "metadata": {},
   "outputs": [
    {
     "data": {
      "image/png": "[encoded data removed]",
      "text/plain": [
       "<matplotlib.figure.Figure at 0x1ce3aae6da0>"
      ]
     },
     "metadata": {},
     "output_type": "display_data"
    }
   ],
   "source": [
    "test_score = np.zeros((params['n_estimators'],), dtype=np.float64)\n",
    "\n",
    "for i, y_pred in enumerate(clf.staged_predict(X_test)):\n",
    "    test_score[i] = clf.loss_(y_test, y_pred)\n",
    "\n",
    "plt.figure(figsize=(20, 6))\n",
    "plt.subplot(1, 2, 1)\n",
    "plt.title('Deviance')\n",
    "plt.plot(np.arange(params['n_estimators']) + 1, clf.train_score_, 'b-',\n",
    "         label='Training Set Deviance')\n",
    "plt.plot(np.arange(params['n_estimators']) + 1, test_score, 'r-',\n",
    "         label='Test Set Deviance')\n",
    "plt.legend(loc='upper right')\n",
    "plt.xlabel('Boosting Iterations')\n",
    "plt.ylabel('Deviance');"
   ]
  },
  {
   "cell_type": "markdown",
   "metadata": {},
   "source": [
    "# Relative Importance of Different Features\n",
    "\n",
    "This approach will allow us to weight the relative importance of different features to the regression.  This will help us to explain the model to the client in relatively simple terms. For example, we can say things like \"The important features to predicting the number of sales are price, recent sentiment about the book, and the last 4 months of sales.\""
   ]
  },
  {
   "cell_type": "code",
   "execution_count": 26,
   "metadata": {},
   "outputs": [
    {
     "data": {
      "image/png": "[encoded data removed]",
      "text/plain": [
       "<matplotlib.figure.Figure at 0x1ce3c7b6a58>"
      ]
     },
     "metadata": {},
     "output_type": "display_data"
    }
   ],
   "source": [
    "\n",
    "feature_importance = clf.feature_importances_\n",
    "# make importances relative to max importance\n",
    "feature_importance = 100.0 * (feature_importance / feature_importance.max())\n",
    "sorted_idx = np.argsort(feature_importance)\n",
    "pos = np.arange(sorted_idx.shape[0]) + .5\n",
    "\n",
    "plt.figure(figsize=(30,15))\n",
    "plt.subplot(1, 2, 2)\n",
    "plt.barh(pos, feature_importance[sorted_idx], align='center')\n",
    "\n",
    "labels = features.columns\n",
    "\n",
    "plt.yticks(pos, labels[sorted_idx], fontsize=14)\n",
    "plt.xlabel('Relative Importance', fontsize=14)\n",
    "plt.title('Importance to the Demand Prediction Model', fontsize=24)\n",
    "plt.show()"
   ]
  },
  {
   "cell_type": "markdown",
   "metadata": {},
   "source": [
    "## So reviews and rating information are typically less important to the model than the total sales over time.\n"
   ]
  },
  {
   "cell_type": "code",
   "execution_count": null,
   "metadata": {
    "collapsed": true
   },
   "outputs": [],
   "source": []
  }
 ],
 "metadata": {
  "anaconda-cloud": {},
  "kernelspec": {
   "display_name": "Python [default]",
   "language": "python",
   "name": "python2"
  },
  "language_info": {
   "codemirror_mode": {
    "name": "ipython",
    "version": 2
   },
   "file_extension": ".py",
   "mimetype": "text/x-python",
   "name": "python",
   "nbconvert_exporter": "python",
   "pygments_lexer": "ipython2",
   "version": "2.7.12"
  }
 },
 "nbformat": 4,
 "nbformat_minor": 2
}
