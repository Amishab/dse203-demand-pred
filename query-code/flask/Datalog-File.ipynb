{
 "cells": [
  {
   "cell_type": "markdown",
   "metadata": {},
   "source": [
    "This notebook has a generic code to extract data from Postgres based on given datalog queries\n",
    "\n",
    "### IMPORTANT - JOIN Query has not been implemented. Students need to implement this."
   ]
  },
  {
   "cell_type": "code",
   "execution_count": 53,
   "metadata": {
    "collapsed": true
   },
   "outputs": [],
   "source": [
    "import pandas as pd\n",
    "import psycopg2 as pg\n",
    "import types\n",
    "import re\n",
    "import numpy as np\n",
    "\n",
    "# Given a datalog query of form - \"Ans(numunits, firstname, billdate), orders.orderid > 1000, orders.numunits > 1\"\n",
    "# this method extracts the column names from it\n",
    "def getColumns(datalog):\n",
    "    return [col.strip() for col in datalog[(datalog.index(\"(\")+1): datalog.index(\")\")].split(\",\")]\n",
    "getColumns(datalog)\n",
    "\n",
    "# Given a datalog query of form - \"Ans(numunits, firstname, billdate), orders.orderid > 1000, orders.numunits > 1\"\n",
    "# this method extracts the where conditions from it\n",
    "def getWhereConditions(datalog):\n",
    "    rawString = datalog.split(\"),\")[1]\n",
    "    conds = [cond.strip() for cond in rawString.split(\",\")]\n",
    "    return conds\n",
    "\n",
    "# Given a result as a list, this method converts it to the expected format of\n",
    "# ['Ans(A,B,C)', 'Ans(a,b,c)']\n",
    "def prettyPrintResult(res):\n",
    "    result_list = []\n",
    "    for r in res:\n",
    "        current = \"Ans(\"\n",
    "        for ele in r:\n",
    "            current += str(ele) + \",\"\n",
    "        current = current[:-1] \n",
    "        current += \")\"\n",
    "        result_list.append(current)\n",
    "    return result_list\n",
    "\n",
    "def getWhereConditionForSelectQuery(conds):\n",
    "    print conds\n",
    "    if not conds or len(conds) == 0:\n",
    "        return\n",
    "    where_condition = \"\" + conds[0]\n",
    "    if len(conds) == 1:\n",
    "        return where_condition\n",
    "    islimit = re.compile(r'\\LIMIT ', flags=re.IGNORECASE)\n",
    "    for cond in conds[1:]:\n",
    "        if islimit.match(cond):\n",
    "            where_condition += \" \" + cond\n",
    "        else:\n",
    "            where_condition += \" AND \" + cond + \" \"\n",
    "    return where_condition\n",
    "\n",
    "def getFullyQualifiedColumnNames(q):\n",
    "    col_names = {}\n",
    "    for val in q:\n",
    "        table_name = val[:val.index(\"(\")]\n",
    "        columns = getColumns(val)\n",
    "        for col in columns:\n",
    "            if col in col_names:\n",
    "                table = col_names.get(col)\n",
    "                table += \";\"+table_name\n",
    "                col_names[col] = table\n",
    "            else:\n",
    "                col_names[col] = table_name\n",
    "    return col_names\n",
    "\n",
    "def getQueryColsFromFQCols(column_names, cols_to_return):\n",
    "    return_str = \"\"\n",
    "    for col in cols_to_return:\n",
    "        if col in column_names:\n",
    "            table_name = column_names[col]\n",
    "            if table_name.find(\";\") == -1:\n",
    "                return_str += table_name + \".\" + col + \", \"\n",
    "        else:\n",
    "            raise Exception('Oh. Something bad happened!')\n",
    "    return return_str[:-2]\n",
    "\n",
    "def getTableNames(q):\n",
    "    return [i[:i.index(\"(\")].strip() for i in q]\n",
    "\n",
    "def getQueryTableNames(table_names):\n",
    "    return_str = \"\"\n",
    "    for table_name in table_names:\n",
    "        return_str += table_name + \", \"\n",
    "    return return_str[:-2]\n",
    "\n",
    "def getJoinConditions(column_names):\n",
    "    return_str = \"\"\n",
    "    for col in column_names:\n",
    "        if column_names[col].find(\";\") != -1:\n",
    "            tables = column_names[col].split(\";\")\n",
    "            base_str = tables[0].strip() + \".\" + col + \"=\"\n",
    "            for table in tables[1:]:\n",
    "                return_str += (base_str + table.strip() + \".\" + col + \" AND \")\n",
    "    return return_str[:-5]\n",
    "\n",
    "def buildSelectQuery(q):\n",
    "    datalog = q[0]                               #\"Ans(numunits, firstname, billdate), orderid > x, numunits > 1\"\n",
    "    cols_to_return = getColumns(datalog)         #numunits, firstname, billdate\n",
    "    q = q[1:]                                    #everything except datalog\n",
    "    \n",
    "    conds   = [i for i in q if isinstance(i, list)]\n",
    "    # conds includes the following:\n",
    "    # [['orders.orderid > 1000', 'orders.numunits > 1']]\n",
    "    \n",
    "    selects = [i for i in q if not isinstance(i, list)]\n",
    "    # selects includes the following:\n",
    "    # 'orders(numunits, customerid, orderid)',\n",
    "    #'customers(firstname, customerid)',\n",
    "    # 'orderlines(billdate, orderid)'\n",
    "    \n",
    "    column_names = getFullyQualifiedColumnNames(selects) # Dictionary of {numunits:orders, customerid:orders;customers} etc.\n",
    "    table_names = getTableNames(selects) # [orders, customers, orderlines]\n",
    "    \n",
    "    print (\"Join Conditions:\" + getJoinConditions(column_names))\n",
    "    print (\"Where Conditions:\" + getWhereConditionForSelectQuery(conds[0]))\n",
    "    \n",
    "    return \"SELECT \" + getQueryColsFromFQCols(column_names, cols_to_return) + \\\n",
    "           \" FROM \" + getQueryTableNames(table_names) + \\\n",
    "           \" WHERE \" + getJoinConditions(column_names) + \\\n",
    "           \" AND \" + getWhereConditionForSelectQuery(conds[0]) + \";\"\n",
    "\n",
    "def getDatalogResult(q):\n",
    "    #if connection.closed:\n",
    "    #    connection = pg.connect(\"dbname=SQLBook user=postgres password=password\")\n",
    "    cur = connection.cursor()\n",
    "    select_query = buildSelectQuery(q)\n",
    "    print (select_query)\n",
    "    cur.execute(select_query)\n",
    "    res = cur.fetchall()\n",
    "    return prettyPrintResult(res)\n",
    "\n",
    "# Datalog queries\n",
    "def parseDatalog(datalog):\n",
    "    \n",
    "    q = datalog.split(':-')\n",
    "    head = q[0].strip()\n",
    "    rightside = q[1]\n",
    "    parsed = {'Ans':head}\n",
    "    pat = re.compile(r'\\w*\\(.*\\)')\n",
    "    m = pat.findall(rightside)\n",
    "    parsed['predicates']=m\n",
    "    for j in m:\n",
    "        rightside = rightside.replace(j,'')\n",
    "\n",
    "    conditions = [s.strip() for s in rightside.split(',') if len(s.strip()) > 0 ]\n",
    "    print (len(conditions))\n",
    "    if len(conditions) > 0:\n",
    "        parsed['conditions']=conditions\n",
    "    return parsed\n",
    "\n",
    "def buildQuery(datalog):\n",
    "    parsed= parseDatalog(datalog)\n",
    "    q = [parsed['Ans']]\n",
    "    q.extend(parsed['predicates'])\n",
    "    q.append(parsed['conditions'])\n",
    "    return buildSelectQuery(q)"
   ]
  },
  {
   "cell_type": "code",
   "execution_count": 55,
   "metadata": {},
   "outputs": [
    {
     "name": "stdout",
     "output_type": "stream",
     "text": [
      "2\n",
      "Join Conditions:customers.customerid=orders.customerid\n",
      "['orders.orderid > 1000', 'orders.numunits > 1']\n",
      "Where Conditions:orders.orderid > 1000 AND orders.numunits > 1 \n",
      "['orders.orderid > 1000', 'orders.numunits > 1']\n",
      "SELECT customers.firstname, orders.orderid FROM customers, orders WHERE customers.customerid=orders.customerid AND orders.orderid > 1000 AND orders.numunits > 1 ;\n"
     ]
    }
   ],
   "source": [
    "\n",
    "datalog = '''Ans(numunits, firstname, billdate) :- orders(numunits, customerid, orderid),\n",
    "    customers(firstname, customerid),\n",
    "    orderlines(billdate, orderid), \n",
    "    orders.orderid > 1000, orders.numunits > 1, limit 100'''\n",
    "\n",
    "datalog = '''\n",
    "Ans(firstname, orderdate) :-\n",
    "orders(numunits, customerid,orderdate), \n",
    "customers(firstname, customerid),\n",
    "orders.orderid > 1000, orders.numunits > 1, limit 5'''\n",
    "\n",
    "query = buildQuery(datalog)\n",
    "print (query)"
   ]
  },
  {
   "cell_type": "markdown",
   "metadata": {},
   "source": [
    "conds = getWhereConditions(datalog)\n",
    "print conds\n",
    "q = [datalog, q1,q2,q3, conds]\n",
    "print (getDatalogResult(q))\n",
    "q"
   ]
  },
  {
   "cell_type": "markdown",
   "metadata": {},
   "source": [
    "print conds\n",
    "print parsed['conditions']"
   ]
  },
  {
   "cell_type": "code",
   "execution_count": null,
   "metadata": {
    "collapsed": true
   },
   "outputs": [],
   "source": [
    "# Connect to an existing database\n",
    "connection = pg.connect(\"dbname=SQLBook user=postgres password=password\")\n",
    "\n",
    "# Datalog queries\n",
    "datalog = \"Ans(numunits, firstname, billdate), orders.orderid > 1000, orders.numunits > 1\"\n",
    "q1 = \"orders(numunits, customerid, orderid)\"\n",
    "q2 = \"customers(firstname, customerid)\"\n",
    "q3 = \"orderlines(billdate, orderid)\""
   ]
  },
  {
   "cell_type": "markdown",
   "metadata": {
    "collapsed": true
   },
   "source": [
    "## Solr"
   ]
  },
  {
   "cell_type": "markdown",
   "metadata": {
    "collapsed": true
   },
   "source": [
    "We need to specify the URL and make a REST call. "
   ]
  },
  {
   "cell_type": "markdown",
   "metadata": {},
   "source": [
    "To get results having both iPod and camera, the URL is \n",
    "http://localhost:8983/solr/techproducts/select?q=iPod,camera"
   ]
  },
  {
   "cell_type": "code",
   "execution_count": 21,
   "metadata": {},
   "outputs": [
    {
     "name": "stdout",
     "output_type": "stream",
     "text": [
      "http://localhost:8983/solr/techproducts/select?q=iPod,camera\n"
     ]
    }
   ],
   "source": [
    "hostname = \"localhost\"\n",
    "port_num = 8983\n",
    "core_name = \"techproducts\"\n",
    "q = [\"iPod\", \"camera\"]\n",
    "query = \",\".join(q)\n",
    "urlToHit = \"http://\" + hostname + \":\" + str(port_num) + \"/solr/\" + core_name + \"/select?q=\" + query\n",
    "print (urlToHit)"
   ]
  },
  {
   "cell_type": "code",
   "execution_count": 22,
   "metadata": {},
   "outputs": [
    {
     "ename": "ImportError",
     "evalue": "No module named request",
     "output_type": "error",
     "traceback": [
      "\u001b[0;31m---------------------------------------------------------------------------\u001b[0m",
      "\u001b[0;31mImportError\u001b[0m                               Traceback (most recent call last)",
      "\u001b[0;32m<ipython-input-22-83b483d4d060>\u001b[0m in \u001b[0;36m<module>\u001b[0;34m()\u001b[0m\n\u001b[0;32m----> 1\u001b[0;31m \u001b[0;32mimport\u001b[0m \u001b[0murllib\u001b[0m\u001b[0;34m.\u001b[0m\u001b[0mrequest\u001b[0m \u001b[0;32mas\u001b[0m \u001b[0mrequest\u001b[0m\u001b[0;34m\u001b[0m\u001b[0m\n\u001b[0m\u001b[1;32m      2\u001b[0m \u001b[0;34m\u001b[0m\u001b[0m\n\u001b[1;32m      3\u001b[0m \u001b[0mreq\u001b[0m \u001b[0;34m=\u001b[0m \u001b[0mrequest\u001b[0m\u001b[0;34m.\u001b[0m\u001b[0mRequest\u001b[0m\u001b[0;34m(\u001b[0m\u001b[0murlToHit\u001b[0m\u001b[0;34m)\u001b[0m\u001b[0;34m\u001b[0m\u001b[0m\n\u001b[1;32m      4\u001b[0m \u001b[0mresult\u001b[0m \u001b[0;34m=\u001b[0m \u001b[0mrequest\u001b[0m\u001b[0;34m.\u001b[0m\u001b[0murlopen\u001b[0m\u001b[0;34m(\u001b[0m\u001b[0mreq\u001b[0m\u001b[0;34m)\u001b[0m\u001b[0;34m\u001b[0m\u001b[0m\n\u001b[1;32m      5\u001b[0m \u001b[0mresulttext\u001b[0m \u001b[0;34m=\u001b[0m \u001b[0mresult\u001b[0m\u001b[0;34m.\u001b[0m\u001b[0mread\u001b[0m\u001b[0;34m(\u001b[0m\u001b[0;34m)\u001b[0m\u001b[0;34m\u001b[0m\u001b[0m\n",
      "\u001b[0;31mImportError\u001b[0m: No module named request"
     ]
    }
   ],
   "source": [
    "import urllib.request as request\n",
    "\n",
    "req = request.Request(urlToHit)\n",
    "result = request.urlopen(req)\n",
    "resulttext = result.read()\n",
    "resulttext"
   ]
  },
  {
   "cell_type": "code",
   "execution_count": null,
   "metadata": {
    "collapsed": true
   },
   "outputs": [],
   "source": []
  }
 ],
 "metadata": {
  "anaconda-cloud": {},
  "kernelspec": {
   "display_name": "Python 2",
   "language": "python",
   "name": "python2"
  },
  "language_info": {
   "codemirror_mode": {
    "name": "ipython",
    "version": 2
   },
   "file_extension": ".py",
   "mimetype": "text/x-python",
   "name": "python",
   "nbconvert_exporter": "python",
   "pygments_lexer": "ipython2",
   "version": "2.7.9"
  }
 },
 "nbformat": 4,
 "nbformat_minor": 2
}
