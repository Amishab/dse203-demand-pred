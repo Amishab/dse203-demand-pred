{
 "cells": [
  {
   "cell_type": "markdown",
   "metadata": {},
   "source": [
    "## To connect to postgres database\n"
   ]
  },
  {
   "cell_type": "code",
   "execution_count": 1,
   "metadata": {
    "collapsed": true
   },
   "outputs": [],
   "source": [
    "import psycopg2\n",
    "import math\n",
    "from random import randint\n",
    "import random\n",
    "from itertools import count\n",
    "import time\n",
    "from datetime import date\n"
   ]
  },
  {
   "cell_type": "markdown",
   "metadata": {},
   "source": [
    "### insert password here:"
   ]
  },
  {
   "cell_type": "code",
   "execution_count": null,
   "metadata": {
    "collapsed": true
   },
   "outputs": [],
   "source": [
    "# create a connection to database. make sure that the db name and password are correct\n",
    "try:\n",
    "    conn = psycopg2.connect(\"dbname='SQLBook' user='postgres' host='/tmp/' password='1234'\")\n",
    "except:\n",
    "    print (\"unable to connect to the database\")\n",
    "    \n",
    "    \n",
    "conn.set_session(autocommit = True) #else use conn.commit() for each insert statement call\n",
    "cur = conn.cursor()"
   ]
  },
  {
   "cell_type": "markdown",
   "metadata": {},
   "source": [
    "### Test out the data quality by pulling from the database:"
   ]
  },
  {
   "cell_type": "code",
   "execution_count": 4,
   "metadata": {},
   "outputs": [
    {
     "name": "stdout",
     "output_type": "stream",
     "text": [
      "customers (189559,)\n",
      "calendar (36890,)\n",
      "campaigns (239,)\n",
      "orderlines (286017,)\n",
      "orders (192983,)\n",
      "products (4040,)\n",
      "reviews (77164,)\n",
      "subscribers (5068035,)\n",
      "zipcensus (32988,)\n",
      "zipcounty (42092,)\n"
     ]
    }
   ],
   "source": [
    "# Test DB Queries:\n",
    "tests = ['customers','calendar','campaigns','orderlines','orders','products','reviews','subscribers','zipcensus','zipcounty'] #get data from base tables\n",
    "for test in tests:\n",
    "    try:\n",
    "        cur.execute(\"\"\"SELECT count(*) from {} \"\"\".format(test))\n",
    "        \n",
    "    except:\n",
    "        print (\"Failed SELECT from {}\")\n",
    "    rows = cur.fetchall()\n",
    "    #print ('\\nLIMIT 10 from table:  ----- {} -----'.format(test))\n",
    "    for row in rows:\n",
    "        print (test ,row)"
   ]
  },
  {
   "cell_type": "code",
   "execution_count": 28,
   "metadata": {
    "collapsed": true
   },
   "outputs": [],
   "source": [
    "#close the connection to db\n",
    "conn.close()"
   ]
  },
  {
   "cell_type": "code",
   "execution_count": null,
   "metadata": {
    "collapsed": true
   },
   "outputs": [],
   "source": []
  }
 ],
 "metadata": {
  "anaconda-cloud": {},
  "kernelspec": {
   "display_name": "Python 3",
   "language": "python",
   "name": "python3"
  },
  "language_info": {
   "codemirror_mode": {
    "name": "ipython",
    "version": 3
   },
   "file_extension": ".py",
   "mimetype": "text/x-python",
   "name": "python",
   "nbconvert_exporter": "python",
   "pygments_lexer": "ipython3",
   "version": "3.6.0"
  },
  "latex_envs": {
   "LaTeX_envs_menu_present": true,
   "autocomplete": true,
   "bibliofile": "biblio.bib",
   "cite_by": "apalike",
   "current_citInitial": 1,
   "eqLabelWithNumbers": true,
   "eqNumInitial": 1,
   "hotkeys": {
    "equation": "Ctrl-E",
    "itemize": "Ctrl-I"
   },
   "labels_anchors": false,
   "latex_user_defs": false,
   "report_style_numbering": false,
   "user_envs_cfg": false
  }
 },
 "nbformat": 4,
 "nbformat_minor": 1
}
