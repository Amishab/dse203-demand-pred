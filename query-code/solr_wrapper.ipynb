{
 "cells": [
  {
   "cell_type": "code",
   "execution_count": 98,
   "metadata": {
    "collapsed": false
   },
   "outputs": [],
   "source": [
    "import pysolr"
   ]
  },
  {
   "cell_type": "code",
   "execution_count": 110,
   "metadata": {
    "collapsed": false
   },
   "outputs": [],
   "source": [
    "def solrWrap(core,params):\n",
    "    query_string='http://localhost:8983/solr/'+core+'/select?'\n",
    "    for key in params:\n",
    "        query_string=query_string+key+'='+params[key]+'&'\n",
    "        print (query_string)\n",
    "    solrcon = pysolr.Solr(query_string, timeout=10)\n",
    "    results = solrcon.search('*:*')\n",
    "    docs=pd.DataFrame(results.docs)\n",
    "    return docs"
   ]
  },
  {
   "cell_type": "code",
   "execution_count": 111,
   "metadata": {
    "collapsed": false
   },
   "outputs": [
    {
     "name": "stdout",
     "output_type": "stream",
     "text": [
      "http://localhost:8983/solr/bookstore/select?q=*:*&\n",
      "http://localhost:8983/solr/bookstore/select?q=*:*&wt=json&\n",
      "http://localhost:8983/solr/bookstore/select?q=*:*&wt=json&fq=reviewerID:'AH2L9G3DQHHAJ'&\n"
     ]
    },
    {
     "data": {
      "text/html": [
       "<div>\n",
       "<table border=\"1\" class=\"dataframe\">\n",
       "  <thead>\n",
       "    <tr style=\"text-align: right;\">\n",
       "      <th></th>\n",
       "      <th>_version_</th>\n",
       "      <th>asin</th>\n",
       "      <th>asin_str</th>\n",
       "      <th>id</th>\n",
       "      <th>reviewText</th>\n",
       "      <th>reviewText_str</th>\n",
       "      <th>reviewerID</th>\n",
       "      <th>reviewerID_str</th>\n",
       "    </tr>\n",
       "  </thead>\n",
       "  <tbody>\n",
       "    <tr>\n",
       "      <th>0</th>\n",
       "      <td>1582171157336948736</td>\n",
       "      <td>[0000000116]</td>\n",
       "      <td>[0000000116]</td>\n",
       "      <td>5501e0ff-4e2e-4eed-8b7a-c8df3daa6b48</td>\n",
       "      <td>[Interesting Grisham tale of a lawyer that tak...</td>\n",
       "      <td>[Interesting Grisham tale of a lawyer that tak...</td>\n",
       "      <td>[AH2L9G3DQHHAJ]</td>\n",
       "      <td>[AH2L9G3DQHHAJ]</td>\n",
       "    </tr>\n",
       "  </tbody>\n",
       "</table>\n",
       "</div>"
      ],
      "text/plain": [
       "             _version_          asin      asin_str  \\\n",
       "0  1582171157336948736  [0000000116]  [0000000116]   \n",
       "\n",
       "                                     id  \\\n",
       "0  5501e0ff-4e2e-4eed-8b7a-c8df3daa6b48   \n",
       "\n",
       "                                          reviewText  \\\n",
       "0  [Interesting Grisham tale of a lawyer that tak...   \n",
       "\n",
       "                                      reviewText_str       reviewerID  \\\n",
       "0  [Interesting Grisham tale of a lawyer that tak...  [AH2L9G3DQHHAJ]   \n",
       "\n",
       "    reviewerID_str  \n",
       "0  [AH2L9G3DQHHAJ]  "
      ]
     },
     "execution_count": 111,
     "metadata": {},
     "output_type": "execute_result"
    }
   ],
   "source": [
    "d = {'q': '*:*', 'wt': 'json', 'fq': \"reviewerID:\\'AH2L9G3DQHHAJ\\'\"} \n",
    "d_res1=solrWrap('bookstore',d)\n",
    "d_res1"
   ]
  },
  {
   "cell_type": "code",
   "execution_count": 113,
   "metadata": {
    "collapsed": false
   },
   "outputs": [
    {
     "name": "stdout",
     "output_type": "stream",
     "text": [
      "http://localhost:8983/solr/bookstore/select?q=*:*&\n",
      "http://localhost:8983/solr/bookstore/select?q=*:*&fq=reviewText: Grisham&\n",
      "http://localhost:8983/solr/bookstore/select?q=*:*&fq=reviewText: Grisham&fl=reviewText, asin&\n"
     ]
    },
    {
     "data": {
      "text/html": [
       "<div>\n",
       "<table border=\"1\" class=\"dataframe\">\n",
       "  <thead>\n",
       "    <tr style=\"text-align: right;\">\n",
       "      <th></th>\n",
       "      <th>asin</th>\n",
       "      <th>reviewText</th>\n",
       "    </tr>\n",
       "  </thead>\n",
       "  <tbody>\n",
       "    <tr>\n",
       "      <th>0</th>\n",
       "      <td>[0000000116]</td>\n",
       "      <td>[Interesting Grisham tale of a lawyer that tak...</td>\n",
       "    </tr>\n",
       "    <tr>\n",
       "      <th>1</th>\n",
       "      <td>[0002007770]</td>\n",
       "      <td>[This book had very, very little depth.  I too...</td>\n",
       "    </tr>\n",
       "    <tr>\n",
       "      <th>2</th>\n",
       "      <td>[0002051850]</td>\n",
       "      <td>[For Whom the Bells Tolls is quite possibly on...</td>\n",
       "    </tr>\n",
       "    <tr>\n",
       "      <th>3</th>\n",
       "      <td>[0002550938]</td>\n",
       "      <td>[\"Sahara\" was about the seventh Dirk Pitt book...</td>\n",
       "    </tr>\n",
       "    <tr>\n",
       "      <th>4</th>\n",
       "      <td>[0006392202]</td>\n",
       "      <td>[Bart Crane is a criminal defense attorney wit...</td>\n",
       "    </tr>\n",
       "    <tr>\n",
       "      <th>5</th>\n",
       "      <td>[0006392202]</td>\n",
       "      <td>[I picked up a copy of Andrew Pyper's LOST GIR...</td>\n",
       "    </tr>\n",
       "    <tr>\n",
       "      <th>6</th>\n",
       "      <td>[0006476155]</td>\n",
       "      <td>[ALONG CAME A SPIDER by James Patterson.The pl...</td>\n",
       "    </tr>\n",
       "    <tr>\n",
       "      <th>7</th>\n",
       "      <td>[0006476155]</td>\n",
       "      <td>[I had heard that Patterson was a good writer....</td>\n",
       "    </tr>\n",
       "    <tr>\n",
       "      <th>8</th>\n",
       "      <td>[0006479758]</td>\n",
       "      <td>[Tom Clancy is back again. With vice-president...</td>\n",
       "    </tr>\n",
       "    <tr>\n",
       "      <th>9</th>\n",
       "      <td>[0006550436]</td>\n",
       "      <td>[Amy Tan has proven by now that she does one t...</td>\n",
       "    </tr>\n",
       "  </tbody>\n",
       "</table>\n",
       "</div>"
      ],
      "text/plain": [
       "           asin                                         reviewText\n",
       "0  [0000000116]  [Interesting Grisham tale of a lawyer that tak...\n",
       "1  [0002007770]  [This book had very, very little depth.  I too...\n",
       "2  [0002051850]  [For Whom the Bells Tolls is quite possibly on...\n",
       "3  [0002550938]  [\"Sahara\" was about the seventh Dirk Pitt book...\n",
       "4  [0006392202]  [Bart Crane is a criminal defense attorney wit...\n",
       "5  [0006392202]  [I picked up a copy of Andrew Pyper's LOST GIR...\n",
       "6  [0006476155]  [ALONG CAME A SPIDER by James Patterson.The pl...\n",
       "7  [0006476155]  [I had heard that Patterson was a good writer....\n",
       "8  [0006479758]  [Tom Clancy is back again. With vice-president...\n",
       "9  [0006550436]  [Amy Tan has proven by now that she does one t..."
      ]
     },
     "execution_count": 113,
     "metadata": {},
     "output_type": "execute_result"
    }
   ],
   "source": [
    "d2 = {'q': '*:*',  'fq': 'reviewText: Grisham', 'fl':'reviewText, asin' } \n",
    "d_res2=solrWrap('bookstore',d2)\n",
    "d_res2"
   ]
  },
  {
   "cell_type": "code",
   "execution_count": null,
   "metadata": {
    "collapsed": true
   },
   "outputs": [],
   "source": []
  }
 ],
 "metadata": {
  "kernelspec": {
   "display_name": "Python 3",
   "language": "python",
   "name": "python3"
  },
  "language_info": {
   "codemirror_mode": {
    "name": "ipython",
    "version": 3
   },
   "file_extension": ".py",
   "mimetype": "text/x-python",
   "name": "python",
   "nbconvert_exporter": "python",
   "pygments_lexer": "ipython3",
   "version": "3.6.0"
  }
 },
 "nbformat": 4,
 "nbformat_minor": 2
}
